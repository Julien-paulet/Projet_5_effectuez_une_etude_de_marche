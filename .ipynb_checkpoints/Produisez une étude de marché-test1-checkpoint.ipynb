{
 "cells": [
  {
   "cell_type": "code",
   "execution_count": 1,
   "metadata": {},
   "outputs": [],
   "source": [
    "import pandas as pd\n",
    "import numpy as np"
   ]
  },
  {
   "cell_type": "markdown",
   "metadata": {},
   "source": [
    "# Phase 1 : Construction de l'échantillon"
   ]
  },
  {
   "cell_type": "code",
   "execution_count": 2,
   "metadata": {},
   "outputs": [
    {
     "data": {
      "text/html": [
       "<div>\n",
       "<style scoped>\n",
       "    .dataframe tbody tr th:only-of-type {\n",
       "        vertical-align: middle;\n",
       "    }\n",
       "\n",
       "    .dataframe tbody tr th {\n",
       "        vertical-align: top;\n",
       "    }\n",
       "\n",
       "    .dataframe thead th {\n",
       "        text-align: right;\n",
       "    }\n",
       "</style>\n",
       "<table border=\"1\" class=\"dataframe\">\n",
       "  <thead>\n",
       "    <tr style=\"text-align: right;\">\n",
       "      <th>Élément</th>\n",
       "      <th>Année</th>\n",
       "      <th>Pays</th>\n",
       "      <th>Produit</th>\n",
       "      <th>Dispo_alim (kcal/personne)</th>\n",
       "      <th>Dispo_alim (kg/personne)</th>\n",
       "      <th>Dispo_prot (kg/personne)</th>\n",
       "      <th>Population totale</th>\n",
       "    </tr>\n",
       "  </thead>\n",
       "  <tbody>\n",
       "    <tr>\n",
       "      <th>0</th>\n",
       "      <td>2012</td>\n",
       "      <td>Afghanistan</td>\n",
       "      <td>Abats Comestible</td>\n",
       "      <td>2190.0</td>\n",
       "      <td>1.82</td>\n",
       "      <td>0.29565</td>\n",
       "      <td>NaN</td>\n",
       "    </tr>\n",
       "    <tr>\n",
       "      <th>1</th>\n",
       "      <td>2012</td>\n",
       "      <td>Afghanistan</td>\n",
       "      <td>Agrumes, Autres</td>\n",
       "      <td>0.0</td>\n",
       "      <td>0.62</td>\n",
       "      <td>0.00365</td>\n",
       "      <td>NaN</td>\n",
       "    </tr>\n",
       "    <tr>\n",
       "      <th>2</th>\n",
       "      <td>2012</td>\n",
       "      <td>Afghanistan</td>\n",
       "      <td>Aliments pour enfants</td>\n",
       "      <td>365.0</td>\n",
       "      <td>0.06</td>\n",
       "      <td>0.01095</td>\n",
       "      <td>NaN</td>\n",
       "    </tr>\n",
       "    <tr>\n",
       "      <th>3</th>\n",
       "      <td>2012</td>\n",
       "      <td>Afghanistan</td>\n",
       "      <td>Ananas</td>\n",
       "      <td>0.0</td>\n",
       "      <td>0.00</td>\n",
       "      <td>NaN</td>\n",
       "      <td>NaN</td>\n",
       "    </tr>\n",
       "    <tr>\n",
       "      <th>4</th>\n",
       "      <td>2012</td>\n",
       "      <td>Afghanistan</td>\n",
       "      <td>Bananes</td>\n",
       "      <td>1095.0</td>\n",
       "      <td>1.60</td>\n",
       "      <td>0.01095</td>\n",
       "      <td>NaN</td>\n",
       "    </tr>\n",
       "  </tbody>\n",
       "</table>\n",
       "</div>"
      ],
      "text/plain": [
       "Élément  Année         Pays                Produit  \\\n",
       "0         2012  Afghanistan       Abats Comestible   \n",
       "1         2012  Afghanistan        Agrumes, Autres   \n",
       "2         2012  Afghanistan  Aliments pour enfants   \n",
       "3         2012  Afghanistan                 Ananas   \n",
       "4         2012  Afghanistan                Bananes   \n",
       "\n",
       "Élément  Dispo_alim (kcal/personne)  Dispo_alim (kg/personne)  \\\n",
       "0                            2190.0                      1.82   \n",
       "1                               0.0                      0.62   \n",
       "2                             365.0                      0.06   \n",
       "3                               0.0                      0.00   \n",
       "4                            1095.0                      1.60   \n",
       "\n",
       "Élément  Dispo_prot (kg/personne)  Population totale  \n",
       "0                         0.29565                NaN  \n",
       "1                         0.00365                NaN  \n",
       "2                         0.01095                NaN  \n",
       "3                             NaN                NaN  \n",
       "4                         0.01095                NaN  "
      ]
     },
     "execution_count": 2,
     "metadata": {},
     "output_type": "execute_result"
    }
   ],
   "source": [
    "data = pd.read_csv(\"FAOSTAT_stats_1.csv\")\n",
    "data = data[['Pays', 'Produit', 'Élément', 'Année', 'Valeur']]\n",
    "data = pd.pivot_table(data, index=['Année', 'Pays', 'Produit'], \n",
    "                      columns = ['Élément'],\n",
    "                     values='Valeur')\n",
    "data = data.reset_index()\n",
    "\n",
    "#Unités : \n",
    "\n",
    "#Passons la disponibilité alimentaire en kcal/pers/an au lieu de kcal/pers/jour : \n",
    "data['Disponibilité alimentaire (Kcal/personne/jour)'] = data['Disponibilité alimentaire (Kcal/personne/jour)']*365\n",
    "data = data.rename(columns = {'Disponibilité alimentaire (Kcal/personne/jour)':'Dispo_alim (kcal/personne)'})\n",
    "\n",
    "#Passons la disponinilité de protéines en kg/pers/an au lieu de g/pers/jour : \n",
    "data['Disponibilité de protéines en quantité (g/personne/jour)'] = data['Disponibilité de protéines en quantité (g/personne/jour)']*0.365\n",
    "data = data.rename(columns = {'Disponibilité de protéines en quantité (g/personne/jour)' : 'Dispo_prot (kg/personne)'})\n",
    "\n",
    "#Changeons le nom de Disponibilité alimentaire en quantité : \n",
    "data = data.rename(columns = {'Disponibilité alimentaire en quantité (kg/personne/an)' : 'Dispo_alim (kg/personne)'})\n",
    "\n",
    "data.head()"
   ]
  },
  {
   "cell_type": "markdown",
   "metadata": {},
   "source": [
    "## Calcul de la disponibilité alimentaire Totale (en kg) / Pays"
   ]
  },
  {
   "cell_type": "code",
   "execution_count": 3,
   "metadata": {},
   "outputs": [
    {
     "data": {
      "text/html": [
       "<div>\n",
       "<style scoped>\n",
       "    .dataframe tbody tr th:only-of-type {\n",
       "        vertical-align: middle;\n",
       "    }\n",
       "\n",
       "    .dataframe tbody tr th {\n",
       "        vertical-align: top;\n",
       "    }\n",
       "\n",
       "    .dataframe thead th {\n",
       "        text-align: right;\n",
       "    }\n",
       "</style>\n",
       "<table border=\"1\" class=\"dataframe\">\n",
       "  <thead>\n",
       "    <tr style=\"text-align: right;\">\n",
       "      <th>Élément</th>\n",
       "      <th>Pays</th>\n",
       "      <th>Dispo_alim_tot (kg/personne)</th>\n",
       "    </tr>\n",
       "  </thead>\n",
       "  <tbody>\n",
       "    <tr>\n",
       "      <th>175</th>\n",
       "      <td>Afghanistan</td>\n",
       "      <td>351.41</td>\n",
       "    </tr>\n",
       "    <tr>\n",
       "      <th>176</th>\n",
       "      <td>Afrique du Sud</td>\n",
       "      <td>564.80</td>\n",
       "    </tr>\n",
       "    <tr>\n",
       "      <th>177</th>\n",
       "      <td>Albanie</td>\n",
       "      <td>1095.54</td>\n",
       "    </tr>\n",
       "    <tr>\n",
       "      <th>178</th>\n",
       "      <td>Algérie</td>\n",
       "      <td>809.13</td>\n",
       "    </tr>\n",
       "    <tr>\n",
       "      <th>179</th>\n",
       "      <td>Allemagne</td>\n",
       "      <td>957.52</td>\n",
       "    </tr>\n",
       "  </tbody>\n",
       "</table>\n",
       "</div>"
      ],
      "text/plain": [
       "Élément            Pays  Dispo_alim_tot (kg/personne)\n",
       "175         Afghanistan                        351.41\n",
       "176      Afrique du Sud                        564.80\n",
       "177             Albanie                       1095.54\n",
       "178             Algérie                        809.13\n",
       "179           Allemagne                        957.52"
      ]
     },
     "execution_count": 3,
     "metadata": {},
     "output_type": "execute_result"
    }
   ],
   "source": [
    "dispo_alim_tot_kg = data[[\"Pays\", \"Année\", \"Dispo_alim (kg/personne)\"]]\n",
    "dispo_alim_tot_kg = dispo_alim_tot_kg.groupby([\"Année\", \"Pays\"]).sum()\n",
    "dispo_alim_tot_kg = dispo_alim_tot_kg.rename(columns={\"Dispo_alim (kg/personne)\":\"Dispo_alim_tot (kg/personne)\"})\n",
    "dispo_alim_tot_kg = dispo_alim_tot_kg.reset_index()\n",
    "dispo_alim_tot_kg = dispo_alim_tot_kg[dispo_alim_tot_kg.Année == 2013]\n",
    "dispo_alim_tot_kg = dispo_alim_tot_kg[[\"Pays\",\"Dispo_alim_tot (kg/personne)\"]]\n",
    "\n",
    "dispo_alim_tot_kg.head()"
   ]
  },
  {
   "cell_type": "markdown",
   "metadata": {},
   "source": [
    "## Calcul de la disponibilité alimentaire Totale (en kcal) / Pays"
   ]
  },
  {
   "cell_type": "code",
   "execution_count": 4,
   "metadata": {},
   "outputs": [
    {
     "data": {
      "text/html": [
       "<div>\n",
       "<style scoped>\n",
       "    .dataframe tbody tr th:only-of-type {\n",
       "        vertical-align: middle;\n",
       "    }\n",
       "\n",
       "    .dataframe tbody tr th {\n",
       "        vertical-align: top;\n",
       "    }\n",
       "\n",
       "    .dataframe thead th {\n",
       "        text-align: right;\n",
       "    }\n",
       "</style>\n",
       "<table border=\"1\" class=\"dataframe\">\n",
       "  <thead>\n",
       "    <tr style=\"text-align: right;\">\n",
       "      <th>Élément</th>\n",
       "      <th>Pays</th>\n",
       "      <th>Dispo_alim_tot (kcal/personne)</th>\n",
       "    </tr>\n",
       "  </thead>\n",
       "  <tbody>\n",
       "    <tr>\n",
       "      <th>175</th>\n",
       "      <td>Afghanistan</td>\n",
       "      <td>761755.0</td>\n",
       "    </tr>\n",
       "    <tr>\n",
       "      <th>176</th>\n",
       "      <td>Afrique du Sud</td>\n",
       "      <td>1102300.0</td>\n",
       "    </tr>\n",
       "    <tr>\n",
       "      <th>177</th>\n",
       "      <td>Albanie</td>\n",
       "      <td>1163620.0</td>\n",
       "    </tr>\n",
       "    <tr>\n",
       "      <th>178</th>\n",
       "      <td>Algérie</td>\n",
       "      <td>1201945.0</td>\n",
       "    </tr>\n",
       "    <tr>\n",
       "      <th>179</th>\n",
       "      <td>Allemagne</td>\n",
       "      <td>1278595.0</td>\n",
       "    </tr>\n",
       "  </tbody>\n",
       "</table>\n",
       "</div>"
      ],
      "text/plain": [
       "Élément            Pays  Dispo_alim_tot (kcal/personne)\n",
       "175         Afghanistan                        761755.0\n",
       "176      Afrique du Sud                       1102300.0\n",
       "177             Albanie                       1163620.0\n",
       "178             Algérie                       1201945.0\n",
       "179           Allemagne                       1278595.0"
      ]
     },
     "execution_count": 4,
     "metadata": {},
     "output_type": "execute_result"
    }
   ],
   "source": [
    "dispo_alim_tot_kcal = data[[\"Pays\", \"Année\", \"Dispo_alim (kcal/personne)\"]]\n",
    "dispo_alim_tot_kcal = dispo_alim_tot_kcal.groupby([\"Année\", \"Pays\"]).sum()\n",
    "dispo_alim_tot_kcal = dispo_alim_tot_kcal.rename(columns={\"Dispo_alim (kcal/personne)\":\"Dispo_alim_tot (kcal/personne)\"})\n",
    "dispo_alim_tot_kcal = dispo_alim_tot_kcal.reset_index()\n",
    "dispo_alim_tot_kcal = dispo_alim_tot_kcal[dispo_alim_tot_kcal.Année == 2013]\n",
    "dispo_alim_tot_kcal = dispo_alim_tot_kcal[[\"Pays\", \"Dispo_alim_tot (kcal/personne)\"]]\n",
    "\n",
    "dispo_alim_tot_kcal.head()"
   ]
  },
  {
   "cell_type": "markdown",
   "metadata": {},
   "source": [
    "## Calcul du ratio pop n/n-1 "
   ]
  },
  {
   "cell_type": "code",
   "execution_count": 5,
   "metadata": {},
   "outputs": [
    {
     "data": {
      "text/html": [
       "<div>\n",
       "<style scoped>\n",
       "    .dataframe tbody tr th:only-of-type {\n",
       "        vertical-align: middle;\n",
       "    }\n",
       "\n",
       "    .dataframe tbody tr th {\n",
       "        vertical-align: top;\n",
       "    }\n",
       "\n",
       "    .dataframe thead th {\n",
       "        text-align: right;\n",
       "    }\n",
       "</style>\n",
       "<table border=\"1\" class=\"dataframe\">\n",
       "  <thead>\n",
       "    <tr style=\"text-align: right;\">\n",
       "      <th>Élément</th>\n",
       "      <th>Pays</th>\n",
       "      <th>Année</th>\n",
       "      <th>Population totale</th>\n",
       "    </tr>\n",
       "  </thead>\n",
       "  <tbody>\n",
       "    <tr>\n",
       "      <th>0</th>\n",
       "      <td>Afghanistan</td>\n",
       "      <td>2012</td>\n",
       "      <td>29825000.0</td>\n",
       "    </tr>\n",
       "    <tr>\n",
       "      <th>1</th>\n",
       "      <td>Afghanistan</td>\n",
       "      <td>2013</td>\n",
       "      <td>30552000.0</td>\n",
       "    </tr>\n",
       "    <tr>\n",
       "      <th>2</th>\n",
       "      <td>Afrique du Sud</td>\n",
       "      <td>2012</td>\n",
       "      <td>52386000.0</td>\n",
       "    </tr>\n",
       "    <tr>\n",
       "      <th>3</th>\n",
       "      <td>Afrique du Sud</td>\n",
       "      <td>2013</td>\n",
       "      <td>52776000.0</td>\n",
       "    </tr>\n",
       "    <tr>\n",
       "      <th>4</th>\n",
       "      <td>Albanie</td>\n",
       "      <td>2012</td>\n",
       "      <td>3162000.0</td>\n",
       "    </tr>\n",
       "  </tbody>\n",
       "</table>\n",
       "</div>"
      ],
      "text/plain": [
       "Élément            Pays  Année  Population totale\n",
       "0           Afghanistan   2012         29825000.0\n",
       "1           Afghanistan   2013         30552000.0\n",
       "2        Afrique du Sud   2012         52386000.0\n",
       "3        Afrique du Sud   2013         52776000.0\n",
       "4               Albanie   2012          3162000.0"
      ]
     },
     "execution_count": 5,
     "metadata": {},
     "output_type": "execute_result"
    }
   ],
   "source": [
    "ratio_pop = data[[\"Année\", \"Pays\", \"Produit\", \"Population totale\"]]\n",
    "ratio_pop = ratio_pop[ratio_pop.Produit == \"Population\"]\n",
    "ratio_pop = ratio_pop.groupby(['Pays', 'Année']).sum()\n",
    "\n",
    "#On remet la colonne à la bonne unité (unité de base : 1 = 1000) : \n",
    "ratio_pop['Population totale'] = ratio_pop['Population totale']*1000\n",
    "\n",
    "#Reset index : \n",
    "ratio_pop = ratio_pop.reset_index()\n",
    "ratio_pop.head()"
   ]
  },
  {
   "cell_type": "code",
   "execution_count": 6,
   "metadata": {},
   "outputs": [
    {
     "data": {
      "text/html": [
       "<div>\n",
       "<style scoped>\n",
       "    .dataframe tbody tr th:only-of-type {\n",
       "        vertical-align: middle;\n",
       "    }\n",
       "\n",
       "    .dataframe tbody tr th {\n",
       "        vertical-align: top;\n",
       "    }\n",
       "\n",
       "    .dataframe thead th {\n",
       "        text-align: right;\n",
       "    }\n",
       "</style>\n",
       "<table border=\"1\" class=\"dataframe\">\n",
       "  <thead>\n",
       "    <tr style=\"text-align: right;\">\n",
       "      <th>Élément</th>\n",
       "      <th>Pays</th>\n",
       "      <th>Ratio_pop (%)</th>\n",
       "    </tr>\n",
       "  </thead>\n",
       "  <tbody>\n",
       "    <tr>\n",
       "      <th>0</th>\n",
       "      <td>Afghanistan</td>\n",
       "      <td>102.437552</td>\n",
       "    </tr>\n",
       "    <tr>\n",
       "      <th>1</th>\n",
       "      <td>Afrique du Sud</td>\n",
       "      <td>100.744474</td>\n",
       "    </tr>\n",
       "    <tr>\n",
       "      <th>2</th>\n",
       "      <td>Albanie</td>\n",
       "      <td>100.347881</td>\n",
       "    </tr>\n",
       "    <tr>\n",
       "      <th>3</th>\n",
       "      <td>Algérie</td>\n",
       "      <td>101.886596</td>\n",
       "    </tr>\n",
       "    <tr>\n",
       "      <th>4</th>\n",
       "      <td>Allemagne</td>\n",
       "      <td>99.911836</td>\n",
       "    </tr>\n",
       "  </tbody>\n",
       "</table>\n",
       "</div>"
      ],
      "text/plain": [
       "Élément            Pays  Ratio_pop (%)\n",
       "0           Afghanistan     102.437552\n",
       "1        Afrique du Sud     100.744474\n",
       "2               Albanie     100.347881\n",
       "3               Algérie     101.886596\n",
       "4             Allemagne      99.911836"
      ]
     },
     "execution_count": 6,
     "metadata": {},
     "output_type": "execute_result"
    }
   ],
   "source": [
    "var_pop = ratio_pop[ratio_pop.Année == 2013]\n",
    "var_pop = var_pop[['Pays', 'Population totale']]\n",
    "pop_n_1 = ratio_pop[ratio_pop.Année == 2012]\n",
    "pop_n_1 = pop_n_1[['Pays', 'Population totale']]\n",
    "\n",
    "var_pop = pd.merge(var_pop, pop_n_1,left_on='Pays', right_on='Pays')\n",
    "var_pop = var_pop.rename(columns = {\"Population totale_x\" : \"Population totale 2013\", \"Population totale_y\" : \"Population totale 2012\"})\n",
    "\n",
    "var_pop['Ratio_pop (%)'] = (var_pop['Population totale 2013']/ var_pop['Population totale 2012'])*100\n",
    "var_pop = var_pop[[\"Pays\", \"Ratio_pop (%)\"]]\n",
    "\n",
    "var_pop.head()"
   ]
  },
  {
   "cell_type": "markdown",
   "metadata": {},
   "source": [
    "## Calcul de la disponibilité alimentaire en protéines "
   ]
  },
  {
   "cell_type": "code",
   "execution_count": 7,
   "metadata": {},
   "outputs": [
    {
     "data": {
      "text/html": [
       "<div>\n",
       "<style scoped>\n",
       "    .dataframe tbody tr th:only-of-type {\n",
       "        vertical-align: middle;\n",
       "    }\n",
       "\n",
       "    .dataframe tbody tr th {\n",
       "        vertical-align: top;\n",
       "    }\n",
       "\n",
       "    .dataframe thead th {\n",
       "        text-align: right;\n",
       "    }\n",
       "</style>\n",
       "<table border=\"1\" class=\"dataframe\">\n",
       "  <thead>\n",
       "    <tr style=\"text-align: right;\">\n",
       "      <th>Élément</th>\n",
       "      <th>Pays</th>\n",
       "      <th>Dispo_prot (kg/personne)</th>\n",
       "    </tr>\n",
       "  </thead>\n",
       "  <tbody>\n",
       "    <tr>\n",
       "      <th>175</th>\n",
       "      <td>Afghanistan</td>\n",
       "      <td>21.26490</td>\n",
       "    </tr>\n",
       "    <tr>\n",
       "      <th>176</th>\n",
       "      <td>Afrique du Sud</td>\n",
       "      <td>31.14545</td>\n",
       "    </tr>\n",
       "    <tr>\n",
       "      <th>177</th>\n",
       "      <td>Albanie</td>\n",
       "      <td>40.65005</td>\n",
       "    </tr>\n",
       "    <tr>\n",
       "      <th>178</th>\n",
       "      <td>Algérie</td>\n",
       "      <td>33.55080</td>\n",
       "    </tr>\n",
       "    <tr>\n",
       "      <th>179</th>\n",
       "      <td>Allemagne</td>\n",
       "      <td>37.00735</td>\n",
       "    </tr>\n",
       "  </tbody>\n",
       "</table>\n",
       "</div>"
      ],
      "text/plain": [
       "Élément            Pays  Dispo_prot (kg/personne)\n",
       "175         Afghanistan                  21.26490\n",
       "176      Afrique du Sud                  31.14545\n",
       "177             Albanie                  40.65005\n",
       "178             Algérie                  33.55080\n",
       "179           Allemagne                  37.00735"
      ]
     },
     "execution_count": 7,
     "metadata": {},
     "output_type": "execute_result"
    }
   ],
   "source": [
    "dispo_prot = data[[\"Pays\", \"Année\", \"Dispo_prot (kg/personne)\"]]\n",
    "dispo_prot = dispo_prot.groupby([\"Année\", \"Pays\"]).sum()\n",
    "dispo_prot = dispo_prot.reset_index()\n",
    "dispo_prot = dispo_prot[dispo_prot.Année == 2013]\n",
    "dispo_prot = dispo_prot[[\"Pays\", \"Dispo_prot (kg/personne)\"]]\n",
    "\n",
    "dispo_prot.head()"
   ]
  },
  {
   "cell_type": "markdown",
   "metadata": {},
   "source": [
    "## Calcul du ratio protéines d'origine animales / quantité totale de protéines "
   ]
  },
  {
   "cell_type": "code",
   "execution_count": 8,
   "metadata": {},
   "outputs": [
    {
     "data": {
      "text/html": [
       "<div>\n",
       "<style scoped>\n",
       "    .dataframe tbody tr th:only-of-type {\n",
       "        vertical-align: middle;\n",
       "    }\n",
       "\n",
       "    .dataframe tbody tr th {\n",
       "        vertical-align: top;\n",
       "    }\n",
       "\n",
       "    .dataframe thead th {\n",
       "        text-align: right;\n",
       "    }\n",
       "</style>\n",
       "<table border=\"1\" class=\"dataframe\">\n",
       "  <thead>\n",
       "    <tr style=\"text-align: right;\">\n",
       "      <th></th>\n",
       "      <th>Année</th>\n",
       "      <th>Pays</th>\n",
       "      <th>Produit</th>\n",
       "      <th>Dispo_prot (kg/personne)</th>\n",
       "      <th>Origine_animale</th>\n",
       "    </tr>\n",
       "  </thead>\n",
       "  <tbody>\n",
       "    <tr>\n",
       "      <th>14528</th>\n",
       "      <td>2013</td>\n",
       "      <td>Afghanistan</td>\n",
       "      <td>Abats Comestible</td>\n",
       "      <td>0.28105</td>\n",
       "      <td>True</td>\n",
       "    </tr>\n",
       "    <tr>\n",
       "      <th>14529</th>\n",
       "      <td>2013</td>\n",
       "      <td>Afghanistan</td>\n",
       "      <td>Agrumes, Autres</td>\n",
       "      <td>0.00730</td>\n",
       "      <td>False</td>\n",
       "    </tr>\n",
       "    <tr>\n",
       "      <th>14530</th>\n",
       "      <td>2013</td>\n",
       "      <td>Afghanistan</td>\n",
       "      <td>Aliments pour enfants</td>\n",
       "      <td>0.01095</td>\n",
       "      <td>False</td>\n",
       "    </tr>\n",
       "    <tr>\n",
       "      <th>14531</th>\n",
       "      <td>2013</td>\n",
       "      <td>Afghanistan</td>\n",
       "      <td>Ananas</td>\n",
       "      <td>NaN</td>\n",
       "      <td>False</td>\n",
       "    </tr>\n",
       "    <tr>\n",
       "      <th>14532</th>\n",
       "      <td>2013</td>\n",
       "      <td>Afghanistan</td>\n",
       "      <td>Bananes</td>\n",
       "      <td>0.01825</td>\n",
       "      <td>False</td>\n",
       "    </tr>\n",
       "  </tbody>\n",
       "</table>\n",
       "</div>"
      ],
      "text/plain": [
       "       Année         Pays                Produit  Dispo_prot (kg/personne)  \\\n",
       "14528   2013  Afghanistan       Abats Comestible                   0.28105   \n",
       "14529   2013  Afghanistan        Agrumes, Autres                   0.00730   \n",
       "14530   2013  Afghanistan  Aliments pour enfants                   0.01095   \n",
       "14531   2013  Afghanistan                 Ananas                       NaN   \n",
       "14532   2013  Afghanistan                Bananes                   0.01825   \n",
       "\n",
       "       Origine_animale  \n",
       "14528             True  \n",
       "14529            False  \n",
       "14530            False  \n",
       "14531            False  \n",
       "14532            False  "
      ]
     },
     "execution_count": 8,
     "metadata": {},
     "output_type": "execute_result"
    }
   ],
   "source": [
    "#On intègre d'abord le fichier contenant les produits d'origine animale : \n",
    "data_ani = pd.read_csv(\"FAOSTAT_prot_ani.csv\")\n",
    "data_ani = data_ani[['Pays', \"Code Produit\", 'Produit', 'Élément', 'Année', 'Valeur']]\n",
    "data_ani = pd.pivot_table(data_ani, index=['Année', 'Pays', 'Produit'], \n",
    "                      columns = ['Élément'],\n",
    "                     values='Valeur')\n",
    "data_ani = data_ani.reset_index()\n",
    "\n",
    "#On récupère ainsi les produits d'origine animale. \n",
    "\n",
    "#On cherche ensuite si les produits du Df Data correspondent ou non aux produits du df data_ani : \n",
    "is_ani = data[data.Année == 2013]\n",
    "result = []\n",
    "for i in is_ani['Produit'].iteritems():\n",
    "    resultat = any(i[1] == data_ani['Produit'])\n",
    "    result.append(resultat)\n",
    "\n",
    "#On convertie notre list result en Df et on merge avec le Df is_ani :\n",
    "result_df = pd.DataFrame(result, index=is_ani.index, columns=[\"Origine_animale\"])\n",
    "is_ani = pd.merge(is_ani, result_df, left_index=True, right_index=True)\n",
    "#On ne garde que les colonnes intéressantes : \n",
    "is_ani = is_ani[[\"Année\", \"Pays\", \"Produit\", \"Dispo_prot (kg/personne)\", \"Origine_animale\"]]\n",
    "is_ani.head()"
   ]
  },
  {
   "cell_type": "code",
   "execution_count": 9,
   "metadata": {},
   "outputs": [
    {
     "data": {
      "text/html": [
       "<div>\n",
       "<style scoped>\n",
       "    .dataframe tbody tr th:only-of-type {\n",
       "        vertical-align: middle;\n",
       "    }\n",
       "\n",
       "    .dataframe tbody tr th {\n",
       "        vertical-align: top;\n",
       "    }\n",
       "\n",
       "    .dataframe thead th {\n",
       "        text-align: right;\n",
       "    }\n",
       "</style>\n",
       "<table border=\"1\" class=\"dataframe\">\n",
       "  <thead>\n",
       "    <tr style=\"text-align: right;\">\n",
       "      <th></th>\n",
       "      <th>Année</th>\n",
       "      <th>Pays</th>\n",
       "      <th>Ratio_prot (kg/personne)</th>\n",
       "    </tr>\n",
       "  </thead>\n",
       "  <tbody>\n",
       "    <tr>\n",
       "      <th>0</th>\n",
       "      <td>2013</td>\n",
       "      <td>Afghanistan</td>\n",
       "      <td>20.957775</td>\n",
       "    </tr>\n",
       "    <tr>\n",
       "      <th>1</th>\n",
       "      <td>2013</td>\n",
       "      <td>Afrique du Sud</td>\n",
       "      <td>42.646197</td>\n",
       "    </tr>\n",
       "    <tr>\n",
       "      <th>2</th>\n",
       "      <td>2013</td>\n",
       "      <td>Albanie</td>\n",
       "      <td>53.344707</td>\n",
       "    </tr>\n",
       "    <tr>\n",
       "      <th>3</th>\n",
       "      <td>2013</td>\n",
       "      <td>Algérie</td>\n",
       "      <td>27.175805</td>\n",
       "    </tr>\n",
       "    <tr>\n",
       "      <th>4</th>\n",
       "      <td>2013</td>\n",
       "      <td>Allemagne</td>\n",
       "      <td>60.647007</td>\n",
       "    </tr>\n",
       "  </tbody>\n",
       "</table>\n",
       "</div>"
      ],
      "text/plain": [
       "   Année            Pays  Ratio_prot (kg/personne)\n",
       "0   2013     Afghanistan                 20.957775\n",
       "1   2013  Afrique du Sud                 42.646197\n",
       "2   2013         Albanie                 53.344707\n",
       "3   2013         Algérie                 27.175805\n",
       "4   2013       Allemagne                 60.647007"
      ]
     },
     "execution_count": 9,
     "metadata": {},
     "output_type": "execute_result"
    }
   ],
   "source": [
    "is_ani_yes = is_ani[is_ani.Origine_animale == True]\n",
    "is_ani_all = is_ani\n",
    "\n",
    "is_ani_yes = is_ani_yes[[\"Année\", \"Pays\", \"Dispo_prot (kg/personne)\"]]\n",
    "is_ani_yes = is_ani_yes.groupby([\"Année\", \"Pays\"]).sum()\n",
    "is_ani_yes = is_ani_yes.reset_index()\n",
    "\n",
    "is_ani_all = is_ani_all[[\"Année\", \"Pays\", \"Dispo_prot (kg/personne)\"]]\n",
    "is_ani_all = is_ani_all.groupby([\"Année\", \"Pays\"]).sum()\n",
    "is_ani_all = is_ani_all.reset_index()\n",
    "\n",
    "ratio_prot = is_ani_yes[[\"Année\", \"Pays\"]]\n",
    "ratio_prot['Ratio_prot (kg/personne)'] = (is_ani_yes[\"Dispo_prot (kg/personne)\"] / is_ani_all[\"Dispo_prot (kg/personne)\"])*100\n",
    "ratio_prot.head()"
   ]
  },
  {
   "cell_type": "markdown",
   "metadata": {},
   "source": [
    "## Ajout de l'Import / Export de poulet "
   ]
  },
  {
   "cell_type": "code",
   "execution_count": 10,
   "metadata": {},
   "outputs": [
    {
     "data": {
      "text/html": [
       "<div>\n",
       "<style scoped>\n",
       "    .dataframe tbody tr th:only-of-type {\n",
       "        vertical-align: middle;\n",
       "    }\n",
       "\n",
       "    .dataframe tbody tr th {\n",
       "        vertical-align: top;\n",
       "    }\n",
       "\n",
       "    .dataframe thead th {\n",
       "        text-align: right;\n",
       "    }\n",
       "</style>\n",
       "<table border=\"1\" class=\"dataframe\">\n",
       "  <thead>\n",
       "    <tr style=\"text-align: right;\">\n",
       "      <th>Élément</th>\n",
       "      <th>Année</th>\n",
       "      <th>Pays</th>\n",
       "      <th>Produit</th>\n",
       "      <th>Unité</th>\n",
       "      <th>Exportations - Quantité</th>\n",
       "      <th>Exportations - Valeur</th>\n",
       "      <th>Importations - Quantité</th>\n",
       "      <th>Importations - Valeur</th>\n",
       "    </tr>\n",
       "  </thead>\n",
       "  <tbody>\n",
       "    <tr>\n",
       "      <th>4</th>\n",
       "      <td>2012</td>\n",
       "      <td>Afghanistan</td>\n",
       "      <td>Viande, volaille</td>\n",
       "      <td>1000 US$</td>\n",
       "      <td>NaN</td>\n",
       "      <td>NaN</td>\n",
       "      <td>NaN</td>\n",
       "      <td>35498.0</td>\n",
       "    </tr>\n",
       "    <tr>\n",
       "      <th>5</th>\n",
       "      <td>2012</td>\n",
       "      <td>Afghanistan</td>\n",
       "      <td>Viande, volaille</td>\n",
       "      <td>tonnes</td>\n",
       "      <td>NaN</td>\n",
       "      <td>NaN</td>\n",
       "      <td>21750.0</td>\n",
       "      <td>NaN</td>\n",
       "    </tr>\n",
       "    <tr>\n",
       "      <th>20</th>\n",
       "      <td>2012</td>\n",
       "      <td>Afrique du Sud</td>\n",
       "      <td>Viande, volaille</td>\n",
       "      <td>1000 US$</td>\n",
       "      <td>NaN</td>\n",
       "      <td>13092.0</td>\n",
       "      <td>NaN</td>\n",
       "      <td>368228.0</td>\n",
       "    </tr>\n",
       "    <tr>\n",
       "      <th>21</th>\n",
       "      <td>2012</td>\n",
       "      <td>Afrique du Sud</td>\n",
       "      <td>Viande, volaille</td>\n",
       "      <td>tonnes</td>\n",
       "      <td>7938.0</td>\n",
       "      <td>NaN</td>\n",
       "      <td>339145.0</td>\n",
       "      <td>NaN</td>\n",
       "    </tr>\n",
       "    <tr>\n",
       "      <th>36</th>\n",
       "      <td>2012</td>\n",
       "      <td>Albanie</td>\n",
       "      <td>Viande, volaille</td>\n",
       "      <td>1000 US$</td>\n",
       "      <td>NaN</td>\n",
       "      <td>0.0</td>\n",
       "      <td>NaN</td>\n",
       "      <td>31583.0</td>\n",
       "    </tr>\n",
       "  </tbody>\n",
       "</table>\n",
       "</div>"
      ],
      "text/plain": [
       "Élément  Année            Pays           Produit     Unité  \\\n",
       "4         2012     Afghanistan  Viande, volaille  1000 US$   \n",
       "5         2012     Afghanistan  Viande, volaille    tonnes   \n",
       "20        2012  Afrique du Sud  Viande, volaille  1000 US$   \n",
       "21        2012  Afrique du Sud  Viande, volaille    tonnes   \n",
       "36        2012         Albanie  Viande, volaille  1000 US$   \n",
       "\n",
       "Élément  Exportations - Quantité  Exportations - Valeur  \\\n",
       "4                            NaN                    NaN   \n",
       "5                            NaN                    NaN   \n",
       "20                           NaN                13092.0   \n",
       "21                        7938.0                    NaN   \n",
       "36                           NaN                    0.0   \n",
       "\n",
       "Élément  Importations - Quantité  Importations - Valeur  \n",
       "4                            NaN                35498.0  \n",
       "5                        21750.0                    NaN  \n",
       "20                           NaN               368228.0  \n",
       "21                      339145.0                    NaN  \n",
       "36                           NaN                31583.0  "
      ]
     },
     "execution_count": 10,
     "metadata": {},
     "output_type": "execute_result"
    }
   ],
   "source": [
    "#Chargement du fichier : \n",
    "data_poulet = pd.read_csv(\"FAOSTAT_poulet_import_export.csv\")\n",
    "#Mise en place d'un pivot_table : \n",
    "data_poulet = data_poulet[['Zone', 'Produit', 'Élément', 'Année', 'Valeur', 'Unité']]\n",
    "data_poulet = pd.pivot_table(data_poulet, index=['Année', 'Zone', 'Produit', 'Unité'], \n",
    "                      columns = ['Élément'],\n",
    "                     values='Valeur')\n",
    "data_poulet = data_poulet.reset_index()\n",
    "data_poulet = data_poulet.rename(columns={\"Zone\":\"Pays\"})\n",
    "#On ne garde que viande de volaille total : \n",
    "data_poulet = data_poulet[data_poulet.Produit == \"Viande, volaille\"]\n",
    "\n",
    "data_poulet.head()"
   ]
  },
  {
   "cell_type": "markdown",
   "metadata": {},
   "source": [
    "Voyons quels pays sont importateurs, et quels pays sont exportateurs  (is_import)"
   ]
  },
  {
   "cell_type": "code",
   "execution_count": 11,
   "metadata": {},
   "outputs": [
    {
     "data": {
      "text/html": [
       "<div>\n",
       "<style scoped>\n",
       "    .dataframe tbody tr th:only-of-type {\n",
       "        vertical-align: middle;\n",
       "    }\n",
       "\n",
       "    .dataframe tbody tr th {\n",
       "        vertical-align: top;\n",
       "    }\n",
       "\n",
       "    .dataframe thead th {\n",
       "        text-align: right;\n",
       "    }\n",
       "</style>\n",
       "<table border=\"1\" class=\"dataframe\">\n",
       "  <thead>\n",
       "    <tr style=\"text-align: right;\">\n",
       "      <th></th>\n",
       "      <th>Pays</th>\n",
       "      <th>importateur</th>\n",
       "    </tr>\n",
       "  </thead>\n",
       "  <tbody>\n",
       "    <tr>\n",
       "      <th>2573</th>\n",
       "      <td>Afghanistan</td>\n",
       "      <td>1</td>\n",
       "    </tr>\n",
       "    <tr>\n",
       "      <th>2589</th>\n",
       "      <td>Afrique du Sud</td>\n",
       "      <td>1</td>\n",
       "    </tr>\n",
       "    <tr>\n",
       "      <th>2605</th>\n",
       "      <td>Albanie</td>\n",
       "      <td>1</td>\n",
       "    </tr>\n",
       "    <tr>\n",
       "      <th>2619</th>\n",
       "      <td>Algérie</td>\n",
       "      <td>0</td>\n",
       "    </tr>\n",
       "    <tr>\n",
       "      <th>2635</th>\n",
       "      <td>Allemagne</td>\n",
       "      <td>1</td>\n",
       "    </tr>\n",
       "  </tbody>\n",
       "</table>\n",
       "</div>"
      ],
      "text/plain": [
       "                Pays  importateur\n",
       "2573     Afghanistan            1\n",
       "2589  Afrique du Sud            1\n",
       "2605         Albanie            1\n",
       "2619         Algérie            0\n",
       "2635       Allemagne            1"
      ]
     },
     "execution_count": 11,
     "metadata": {},
     "output_type": "execute_result"
    }
   ],
   "source": [
    "is_import = data_poulet[[\"Année\", \"Pays\", \"Unité\", \"Exportations - Quantité\", \"Importations - Quantité\", \"Produit\"]]\n",
    "is_import = is_import[is_import.Année == 2013]\n",
    "is_import = is_import[is_import.Unité == \"tonnes\"]\n",
    "is_import = is_import.fillna(value = 0)\n",
    "\n",
    "importateur = []\n",
    "for i, j in zip(is_import['Exportations - Quantité'], is_import['Importations - Quantité']):\n",
    "    if j-i > 0 :\n",
    "        importations = 1 #Si le pays est importateur alors 1\n",
    "    else :\n",
    "        importations = 0 #Sinon 0\n",
    "    importateur.append(importations)\n",
    "\n",
    "importateur = pd.DataFrame(importateur, index=is_import.index, columns=['importateur'])    \n",
    "is_import = pd.merge(is_import, importateur, left_index=True, right_index=True)\n",
    "is_import = is_import[[\"Pays\", \"importateur\"]]\n",
    "is_import.head()"
   ]
  },
  {
   "cell_type": "markdown",
   "metadata": {},
   "source": [
    "## Ajout du PIB / Habitant : "
   ]
  },
  {
   "cell_type": "markdown",
   "metadata": {},
   "source": [
    "PIB par habitant (data_pib_2013)"
   ]
  },
  {
   "cell_type": "code",
   "execution_count": 12,
   "metadata": {},
   "outputs": [
    {
     "data": {
      "text/html": [
       "<div>\n",
       "<style scoped>\n",
       "    .dataframe tbody tr th:only-of-type {\n",
       "        vertical-align: middle;\n",
       "    }\n",
       "\n",
       "    .dataframe tbody tr th {\n",
       "        vertical-align: top;\n",
       "    }\n",
       "\n",
       "    .dataframe thead th {\n",
       "        text-align: right;\n",
       "    }\n",
       "</style>\n",
       "<table border=\"1\" class=\"dataframe\">\n",
       "  <thead>\n",
       "    <tr style=\"text-align: right;\">\n",
       "      <th>Élément</th>\n",
       "      <th>Pays</th>\n",
       "      <th>PIB par habitant (US $)</th>\n",
       "    </tr>\n",
       "  </thead>\n",
       "  <tbody>\n",
       "    <tr>\n",
       "      <th>212</th>\n",
       "      <td>Afghanistan</td>\n",
       "      <td>681.033974</td>\n",
       "    </tr>\n",
       "    <tr>\n",
       "      <th>213</th>\n",
       "      <td>Afrique du Sud</td>\n",
       "      <td>6818.736993</td>\n",
       "    </tr>\n",
       "    <tr>\n",
       "      <th>214</th>\n",
       "      <td>Albanie</td>\n",
       "      <td>4376.970549</td>\n",
       "    </tr>\n",
       "    <tr>\n",
       "      <th>215</th>\n",
       "      <td>Algérie</td>\n",
       "      <td>5471.866638</td>\n",
       "    </tr>\n",
       "    <tr>\n",
       "      <th>216</th>\n",
       "      <td>Allemagne</td>\n",
       "      <td>46176.177749</td>\n",
       "    </tr>\n",
       "  </tbody>\n",
       "</table>\n",
       "</div>"
      ],
      "text/plain": [
       "Élément            Pays  PIB par habitant (US $)\n",
       "212         Afghanistan               681.033974\n",
       "213      Afrique du Sud              6818.736993\n",
       "214             Albanie              4376.970549\n",
       "215             Algérie              5471.866638\n",
       "216           Allemagne             46176.177749"
      ]
     },
     "execution_count": 12,
     "metadata": {},
     "output_type": "execute_result"
    }
   ],
   "source": [
    "data_pib = pd.read_csv(\"FAOSTAT_pib_h.csv\")\n",
    "data_pib = data_pib[['Zone', 'Produit', 'Élément', 'Année', 'Valeur']]\n",
    "data_pib = pd.pivot_table(data_pib, index=['Année', 'Zone', 'Produit'], \n",
    "                      columns = ['Élément'],\n",
    "                     values='Valeur')\n",
    "data_pib = data_pib.reset_index()\n",
    "data_pib = data_pib.rename(columns={\"Zone\":\"Pays\"})\n",
    "\n",
    "data_pib_2013 = data_pib[data_pib.Année == 2013]\n",
    "data_pib_2013 = data_pib_2013.rename(columns = {\"Valeur (US $)\" : \"PIB par habitant (US $)\"})\n",
    "data_pib_2013 = data_pib_2013[[\"Pays\", \"PIB par habitant (US $)\"]]\n",
    "data_pib_2013.head()"
   ]
  },
  {
   "cell_type": "markdown",
   "metadata": {},
   "source": [
    "Evolution du PIB / habitant (evo_pib)"
   ]
  },
  {
   "cell_type": "code",
   "execution_count": 13,
   "metadata": {},
   "outputs": [
    {
     "data": {
      "text/html": [
       "<div>\n",
       "<style scoped>\n",
       "    .dataframe tbody tr th:only-of-type {\n",
       "        vertical-align: middle;\n",
       "    }\n",
       "\n",
       "    .dataframe tbody tr th {\n",
       "        vertical-align: top;\n",
       "    }\n",
       "\n",
       "    .dataframe thead th {\n",
       "        text-align: right;\n",
       "    }\n",
       "</style>\n",
       "<table border=\"1\" class=\"dataframe\">\n",
       "  <thead>\n",
       "    <tr style=\"text-align: right;\">\n",
       "      <th>Élément</th>\n",
       "      <th>Pays</th>\n",
       "      <th>Ratio_PIB (%)</th>\n",
       "    </tr>\n",
       "  </thead>\n",
       "  <tbody>\n",
       "    <tr>\n",
       "      <th>0</th>\n",
       "      <td>Afghanistan</td>\n",
       "      <td>98.006592</td>\n",
       "    </tr>\n",
       "    <tr>\n",
       "      <th>1</th>\n",
       "      <td>Afrique du Sud</td>\n",
       "      <td>91.181948</td>\n",
       "    </tr>\n",
       "    <tr>\n",
       "      <th>2</th>\n",
       "      <td>Albanie</td>\n",
       "      <td>103.743128</td>\n",
       "    </tr>\n",
       "    <tr>\n",
       "      <th>3</th>\n",
       "      <td>Algérie</td>\n",
       "      <td>98.329483</td>\n",
       "    </tr>\n",
       "    <tr>\n",
       "      <th>4</th>\n",
       "      <td>Allemagne</td>\n",
       "      <td>105.624874</td>\n",
       "    </tr>\n",
       "  </tbody>\n",
       "</table>\n",
       "</div>"
      ],
      "text/plain": [
       "Élément            Pays  Ratio_PIB (%)\n",
       "0           Afghanistan      98.006592\n",
       "1        Afrique du Sud      91.181948\n",
       "2               Albanie     103.743128\n",
       "3               Algérie      98.329483\n",
       "4             Allemagne     105.624874"
      ]
     },
     "execution_count": 13,
     "metadata": {},
     "output_type": "execute_result"
    }
   ],
   "source": [
    "evo_pib = data_pib[data_pib.Année == 2013]\n",
    "evo_pib = evo_pib[['Pays', 'Valeur (US $)']]\n",
    "evo_pib_1 = data_pib[data_pib.Année == 2012]\n",
    "evo_pib_1 = evo_pib_1[['Pays', 'Valeur (US $)']]\n",
    "\n",
    "evo_pib = pd.merge(evo_pib, evo_pib_1,left_on='Pays', right_on='Pays')\n",
    "evo_pib = evo_pib.rename(columns = {\"Valeur (US $)_x\" : \"PIB_2013\", \"Valeur (US $)_y\" : \"PIB_2012\"})\n",
    "\n",
    "evo_pib['Ratio_PIB (%)'] = (evo_pib['PIB_2013']/ evo_pib['PIB_2012'])*100\n",
    "evo_pib = evo_pib[[\"Pays\", \"Ratio_PIB (%)\"]]\n",
    "\n",
    "evo_pib.head()"
   ]
  },
  {
   "cell_type": "markdown",
   "metadata": {},
   "source": [
    "# Ajout des éléments à l'échantillon : "
   ]
  },
  {
   "cell_type": "markdown",
   "metadata": {},
   "source": [
    "## Mise en place du fichier"
   ]
  },
  {
   "cell_type": "code",
   "execution_count": 14,
   "metadata": {},
   "outputs": [
    {
     "data": {
      "text/html": [
       "<div>\n",
       "<style scoped>\n",
       "    .dataframe tbody tr th:only-of-type {\n",
       "        vertical-align: middle;\n",
       "    }\n",
       "\n",
       "    .dataframe tbody tr th {\n",
       "        vertical-align: top;\n",
       "    }\n",
       "\n",
       "    .dataframe thead th {\n",
       "        text-align: right;\n",
       "    }\n",
       "</style>\n",
       "<table border=\"1\" class=\"dataframe\">\n",
       "  <thead>\n",
       "    <tr style=\"text-align: right;\">\n",
       "      <th></th>\n",
       "      <th>Ratio_pop (%)</th>\n",
       "      <th>Ratio_prot (kg/personne)</th>\n",
       "      <th>Dispo_prot (kg/personne)</th>\n",
       "      <th>Dispo_alim_tot (kcal/personne)</th>\n",
       "      <th>importateur</th>\n",
       "      <th>PIB par habitant (US $)</th>\n",
       "      <th>Ratio_PIB (%)</th>\n",
       "    </tr>\n",
       "    <tr>\n",
       "      <th>Pays</th>\n",
       "      <th></th>\n",
       "      <th></th>\n",
       "      <th></th>\n",
       "      <th></th>\n",
       "      <th></th>\n",
       "      <th></th>\n",
       "      <th></th>\n",
       "    </tr>\n",
       "  </thead>\n",
       "  <tbody>\n",
       "    <tr>\n",
       "      <th>Afghanistan</th>\n",
       "      <td>102.437552</td>\n",
       "      <td>20.957775</td>\n",
       "      <td>21.26490</td>\n",
       "      <td>761755.0</td>\n",
       "      <td>1.0</td>\n",
       "      <td>681.033974</td>\n",
       "      <td>98.006592</td>\n",
       "    </tr>\n",
       "    <tr>\n",
       "      <th>Afrique du Sud</th>\n",
       "      <td>100.744474</td>\n",
       "      <td>42.646197</td>\n",
       "      <td>31.14545</td>\n",
       "      <td>1102300.0</td>\n",
       "      <td>1.0</td>\n",
       "      <td>6818.736993</td>\n",
       "      <td>91.181948</td>\n",
       "    </tr>\n",
       "    <tr>\n",
       "      <th>Albanie</th>\n",
       "      <td>100.347881</td>\n",
       "      <td>53.344707</td>\n",
       "      <td>40.65005</td>\n",
       "      <td>1163620.0</td>\n",
       "      <td>1.0</td>\n",
       "      <td>4376.970549</td>\n",
       "      <td>103.743128</td>\n",
       "    </tr>\n",
       "    <tr>\n",
       "      <th>Algérie</th>\n",
       "      <td>101.886596</td>\n",
       "      <td>27.175805</td>\n",
       "      <td>33.55080</td>\n",
       "      <td>1201945.0</td>\n",
       "      <td>0.0</td>\n",
       "      <td>5471.866638</td>\n",
       "      <td>98.329483</td>\n",
       "    </tr>\n",
       "    <tr>\n",
       "      <th>Allemagne</th>\n",
       "      <td>99.911836</td>\n",
       "      <td>60.647007</td>\n",
       "      <td>37.00735</td>\n",
       "      <td>1278595.0</td>\n",
       "      <td>1.0</td>\n",
       "      <td>46176.177749</td>\n",
       "      <td>105.624874</td>\n",
       "    </tr>\n",
       "  </tbody>\n",
       "</table>\n",
       "</div>"
      ],
      "text/plain": [
       "                Ratio_pop (%)  Ratio_prot (kg/personne)  \\\n",
       "Pays                                                      \n",
       "Afghanistan        102.437552                 20.957775   \n",
       "Afrique du Sud     100.744474                 42.646197   \n",
       "Albanie            100.347881                 53.344707   \n",
       "Algérie            101.886596                 27.175805   \n",
       "Allemagne           99.911836                 60.647007   \n",
       "\n",
       "                Dispo_prot (kg/personne)  Dispo_alim_tot (kcal/personne)  \\\n",
       "Pays                                                                       \n",
       "Afghanistan                     21.26490                        761755.0   \n",
       "Afrique du Sud                  31.14545                       1102300.0   \n",
       "Albanie                         40.65005                       1163620.0   \n",
       "Algérie                         33.55080                       1201945.0   \n",
       "Allemagne                       37.00735                       1278595.0   \n",
       "\n",
       "                importateur  PIB par habitant (US $)  Ratio_PIB (%)  \n",
       "Pays                                                                 \n",
       "Afghanistan             1.0               681.033974      98.006592  \n",
       "Afrique du Sud          1.0              6818.736993      91.181948  \n",
       "Albanie                 1.0              4376.970549     103.743128  \n",
       "Algérie                 0.0              5471.866638      98.329483  \n",
       "Allemagne               1.0             46176.177749     105.624874  "
      ]
     },
     "execution_count": 14,
     "metadata": {},
     "output_type": "execute_result"
    }
   ],
   "source": [
    "echantillon = pd.merge(dispo_alim_tot_kg, dispo_alim_tot_kcal, left_on=\"Pays\", right_on=\"Pays\", how='left')\n",
    "echantillon = pd.merge(echantillon, var_pop, left_on=\"Pays\", right_on=\"Pays\", how='left')\n",
    "echantillon = pd.merge(echantillon, dispo_prot, left_on=\"Pays\", right_on=\"Pays\", how='left')\n",
    "echantillon = pd.merge(echantillon, ratio_prot, left_on=\"Pays\", right_on=\"Pays\", how='left')\n",
    "echantillon = pd.merge(echantillon, is_import, left_on=\"Pays\", right_on=\"Pays\", how='left')\n",
    "echantillon = pd.merge(echantillon, data_pib_2013, left_on=\"Pays\", right_on=\"Pays\", how='left')\n",
    "echantillon = pd.merge(echantillon, evo_pib, left_on=\"Pays\", right_on=\"Pays\", how='left')\n",
    "\n",
    "\n",
    "#On passe pays en index et ne garde que les colonnes importantes :\n",
    "echantillon.index = echantillon['Pays']\n",
    "echantillon = echantillon[[\"Ratio_pop (%)\", \"Ratio_prot (kg/personne)\", \"Dispo_prot (kg/personne)\", \"Dispo_alim_tot (kcal/personne)\", \"importateur\", \"PIB par habitant (US $)\", \"Ratio_PIB (%)\"]]\n",
    "echantillon.head()"
   ]
  },
  {
   "cell_type": "code",
   "execution_count": 15,
   "metadata": {},
   "outputs": [],
   "source": [
    "#On remplace les valeurs NaN (pas trouvé lesquelles par contre) par 0. \n",
    "echantillon = echantillon.fillna(value=0)\n",
    "\n",
    "#Point à revoir."
   ]
  },
  {
   "cell_type": "markdown",
   "metadata": {},
   "source": [
    "# Dendogramme"
   ]
  },
  {
   "cell_type": "code",
   "execution_count": 16,
   "metadata": {},
   "outputs": [],
   "source": [
    "from functions import plot_dendrogram\n",
    "from scipy.cluster.hierarchy import linkage, fcluster\n",
    "from sklearn import preprocessing, decomposition"
   ]
  },
  {
   "cell_type": "code",
   "execution_count": 17,
   "metadata": {},
   "outputs": [
    {
     "data": {
      "text/plain": [
       "False"
      ]
     },
     "execution_count": 17,
     "metadata": {},
     "output_type": "execute_result"
    }
   ],
   "source": [
    "np.any(np.isnan(echantillon))"
   ]
  },
  {
   "cell_type": "code",
   "execution_count": 18,
   "metadata": {},
   "outputs": [],
   "source": [
    "# préparation des données pour le clustering\n",
    "X = echantillon.values\n",
    "names = echantillon.index\n",
    "\n",
    "# Centrage et Réduction\n",
    "std_scale = preprocessing.StandardScaler().fit(X)\n",
    "X_scaled = std_scale.transform(X)"
   ]
  },
  {
   "cell_type": "code",
   "execution_count": 19,
   "metadata": {},
   "outputs": [
    {
     "data": {
      "image/png": "[encoded data removed]",
      "text/plain": [
       "<Figure size 720x1800 with 1 Axes>"
      ]
     },
     "metadata": {
      "needs_background": "light"
     },
     "output_type": "display_data"
    }
   ],
   "source": [
    "# Clustering hiérarchique\n",
    "Z = linkage(X_scaled, 'ward')\n",
    "\n",
    "# Affichage du dendrogramme\n",
    "plot_dendrogram(Z, names)"
   ]
  },
  {
   "cell_type": "code",
   "execution_count": 20,
   "metadata": {},
   "outputs": [],
   "source": [
    "clusters = fcluster(Z, 7, criterion='maxclust')"
   ]
  },
  {
   "cell_type": "code",
   "execution_count": 21,
   "metadata": {},
   "outputs": [],
   "source": [
    "from scipy.cluster.hierarchy import centroid\n",
    "#centroid(clusters_df)"
   ]
  },
  {
   "cell_type": "code",
   "execution_count": 22,
   "metadata": {},
   "outputs": [],
   "source": [
    "#On passe par mean() pour calculer les centroïdes de chaque groupe (Point à vérifier tout de même) \n",
    "#Puisque la classification hiérarchique n'utilise pas de centres."
   ]
  },
  {
   "cell_type": "code",
   "execution_count": 23,
   "metadata": {},
   "outputs": [
    {
     "data": {
      "text/html": [
       "<div>\n",
       "<style scoped>\n",
       "    .dataframe tbody tr th:only-of-type {\n",
       "        vertical-align: middle;\n",
       "    }\n",
       "\n",
       "    .dataframe tbody tr th {\n",
       "        vertical-align: top;\n",
       "    }\n",
       "\n",
       "    .dataframe thead th {\n",
       "        text-align: right;\n",
       "    }\n",
       "</style>\n",
       "<table border=\"1\" class=\"dataframe\">\n",
       "  <thead>\n",
       "    <tr style=\"text-align: right;\">\n",
       "      <th></th>\n",
       "      <th>Ratio_pop (%)</th>\n",
       "      <th>Ratio_prot (kg/personne)</th>\n",
       "      <th>Dispo_prot (kg/personne)</th>\n",
       "      <th>Dispo_alim_tot (kcal/personne)</th>\n",
       "      <th>importateur</th>\n",
       "      <th>PIB par habitant (US $)</th>\n",
       "      <th>Ratio_PIB (%)</th>\n",
       "    </tr>\n",
       "    <tr>\n",
       "      <th>Clusters</th>\n",
       "      <th></th>\n",
       "      <th></th>\n",
       "      <th></th>\n",
       "      <th></th>\n",
       "      <th></th>\n",
       "      <th></th>\n",
       "      <th></th>\n",
       "    </tr>\n",
       "  </thead>\n",
       "  <tbody>\n",
       "    <tr>\n",
       "      <th>1</th>\n",
       "      <td>101.730626</td>\n",
       "      <td>31.456911</td>\n",
       "      <td>22.962150</td>\n",
       "      <td>8.859158e+05</td>\n",
       "      <td>0.0</td>\n",
       "      <td>2609.520878</td>\n",
       "      <td>104.129419</td>\n",
       "    </tr>\n",
       "    <tr>\n",
       "      <th>2</th>\n",
       "      <td>102.457730</td>\n",
       "      <td>23.788856</td>\n",
       "      <td>22.070439</td>\n",
       "      <td>8.844743e+05</td>\n",
       "      <td>1.0</td>\n",
       "      <td>1846.843244</td>\n",
       "      <td>103.930590</td>\n",
       "    </tr>\n",
       "    <tr>\n",
       "      <th>3</th>\n",
       "      <td>109.595655</td>\n",
       "      <td>51.808185</td>\n",
       "      <td>32.196650</td>\n",
       "      <td>1.146100e+06</td>\n",
       "      <td>1.0</td>\n",
       "      <td>21268.756403</td>\n",
       "      <td>96.086934</td>\n",
       "    </tr>\n",
       "    <tr>\n",
       "      <th>4</th>\n",
       "      <td>100.535756</td>\n",
       "      <td>55.252223</td>\n",
       "      <td>36.985596</td>\n",
       "      <td>1.206383e+06</td>\n",
       "      <td>0.0</td>\n",
       "      <td>27735.782421</td>\n",
       "      <td>103.939467</td>\n",
       "    </tr>\n",
       "    <tr>\n",
       "      <th>5</th>\n",
       "      <td>101.147271</td>\n",
       "      <td>60.045705</td>\n",
       "      <td>39.167721</td>\n",
       "      <td>1.211091e+06</td>\n",
       "      <td>1.0</td>\n",
       "      <td>58414.430050</td>\n",
       "      <td>104.057983</td>\n",
       "    </tr>\n",
       "    <tr>\n",
       "      <th>6</th>\n",
       "      <td>100.430890</td>\n",
       "      <td>44.437317</td>\n",
       "      <td>34.269850</td>\n",
       "      <td>1.115075e+06</td>\n",
       "      <td>1.0</td>\n",
       "      <td>0.000000</td>\n",
       "      <td>0.000000</td>\n",
       "    </tr>\n",
       "    <tr>\n",
       "      <th>7</th>\n",
       "      <td>100.763699</td>\n",
       "      <td>48.161544</td>\n",
       "      <td>30.793225</td>\n",
       "      <td>1.062931e+06</td>\n",
       "      <td>1.0</td>\n",
       "      <td>10432.057130</td>\n",
       "      <td>103.642778</td>\n",
       "    </tr>\n",
       "  </tbody>\n",
       "</table>\n",
       "</div>"
      ],
      "text/plain": [
       "          Ratio_pop (%)  Ratio_prot (kg/personne)  Dispo_prot (kg/personne)  \\\n",
       "Clusters                                                                      \n",
       "1            101.730626                 31.456911                 22.962150   \n",
       "2            102.457730                 23.788856                 22.070439   \n",
       "3            109.595655                 51.808185                 32.196650   \n",
       "4            100.535756                 55.252223                 36.985596   \n",
       "5            101.147271                 60.045705                 39.167721   \n",
       "6            100.430890                 44.437317                 34.269850   \n",
       "7            100.763699                 48.161544                 30.793225   \n",
       "\n",
       "          Dispo_alim_tot (kcal/personne)  importateur  \\\n",
       "Clusters                                                \n",
       "1                           8.859158e+05          0.0   \n",
       "2                           8.844743e+05          1.0   \n",
       "3                           1.146100e+06          1.0   \n",
       "4                           1.206383e+06          0.0   \n",
       "5                           1.211091e+06          1.0   \n",
       "6                           1.115075e+06          1.0   \n",
       "7                           1.062931e+06          1.0   \n",
       "\n",
       "          PIB par habitant (US $)  Ratio_PIB (%)  \n",
       "Clusters                                          \n",
       "1                     2609.520878     104.129419  \n",
       "2                     1846.843244     103.930590  \n",
       "3                    21268.756403      96.086934  \n",
       "4                    27735.782421     103.939467  \n",
       "5                    58414.430050     104.057983  \n",
       "6                        0.000000       0.000000  \n",
       "7                    10432.057130     103.642778  "
      ]
     },
     "execution_count": 23,
     "metadata": {},
     "output_type": "execute_result"
    }
   ],
   "source": [
    "clusters_df = pd.DataFrame(clusters, index=echantillon.index, columns=['Clusters'])\n",
    "echantillon_grouped = pd.merge(echantillon, clusters_df, left_index = True, right_index = True, how = \"left\")\n",
    "\n",
    "echantillon_grouped = echantillon_grouped.groupby('Clusters').mean()\n",
    "echantillon_grouped\n",
    "\n",
    "#Le cluster 7 semble être le meilleur : \n",
    "#Ratio prot très élevé, PIB élever et en augmentation, pays importateurs de viandes de volailles et imports en augmentation "
   ]
  },
  {
   "cell_type": "markdown",
   "metadata": {},
   "source": [
    "Augmentons la précision en prenant plus de 5 clusters"
   ]
  },
  {
   "cell_type": "code",
   "execution_count": 24,
   "metadata": {},
   "outputs": [
    {
     "data": {
      "text/html": [
       "<div>\n",
       "<style scoped>\n",
       "    .dataframe tbody tr th:only-of-type {\n",
       "        vertical-align: middle;\n",
       "    }\n",
       "\n",
       "    .dataframe tbody tr th {\n",
       "        vertical-align: top;\n",
       "    }\n",
       "\n",
       "    .dataframe thead th {\n",
       "        text-align: right;\n",
       "    }\n",
       "</style>\n",
       "<table border=\"1\" class=\"dataframe\">\n",
       "  <thead>\n",
       "    <tr style=\"text-align: right;\">\n",
       "      <th></th>\n",
       "      <th>Ratio_pop (%)</th>\n",
       "      <th>Ratio_prot (kg/personne)</th>\n",
       "      <th>Dispo_prot (kg/personne)</th>\n",
       "      <th>Dispo_alim_tot (kcal/personne)</th>\n",
       "      <th>importateur</th>\n",
       "      <th>PIB par habitant (US $)</th>\n",
       "      <th>Ratio_PIB (%)</th>\n",
       "      <th>Clusters</th>\n",
       "    </tr>\n",
       "    <tr>\n",
       "      <th>Pays</th>\n",
       "      <th></th>\n",
       "      <th></th>\n",
       "      <th></th>\n",
       "      <th></th>\n",
       "      <th></th>\n",
       "      <th></th>\n",
       "      <th></th>\n",
       "      <th></th>\n",
       "    </tr>\n",
       "  </thead>\n",
       "  <tbody>\n",
       "    <tr>\n",
       "      <th>Allemagne</th>\n",
       "      <td>99.911836</td>\n",
       "      <td>60.647007</td>\n",
       "      <td>37.00735</td>\n",
       "      <td>1278595.0</td>\n",
       "      <td>1.0</td>\n",
       "      <td>46176.177749</td>\n",
       "      <td>105.624874</td>\n",
       "      <td>5</td>\n",
       "    </tr>\n",
       "    <tr>\n",
       "      <th>Arabie saoudite</th>\n",
       "      <td>101.912472</td>\n",
       "      <td>43.585544</td>\n",
       "      <td>33.43035</td>\n",
       "      <td>1188075.0</td>\n",
       "      <td>1.0</td>\n",
       "      <td>24934.386142</td>\n",
       "      <td>98.542832</td>\n",
       "      <td>5</td>\n",
       "    </tr>\n",
       "    <tr>\n",
       "      <th>Autriche</th>\n",
       "      <td>100.366257</td>\n",
       "      <td>59.190207</td>\n",
       "      <td>38.76300</td>\n",
       "      <td>1376050.0</td>\n",
       "      <td>1.0</td>\n",
       "      <td>50137.519579</td>\n",
       "      <td>104.304448</td>\n",
       "      <td>5</td>\n",
       "    </tr>\n",
       "    <tr>\n",
       "      <th>Bermudes</th>\n",
       "      <td>100.000000</td>\n",
       "      <td>66.710934</td>\n",
       "      <td>32.98140</td>\n",
       "      <td>973820.0</td>\n",
       "      <td>1.0</td>\n",
       "      <td>90329.786048</td>\n",
       "      <td>102.175947</td>\n",
       "      <td>5</td>\n",
       "    </tr>\n",
       "    <tr>\n",
       "      <th>Canada</th>\n",
       "      <td>100.987428</td>\n",
       "      <td>52.065486</td>\n",
       "      <td>38.34690</td>\n",
       "      <td>1277135.0</td>\n",
       "      <td>1.0</td>\n",
       "      <td>52264.959967</td>\n",
       "      <td>99.988773</td>\n",
       "      <td>5</td>\n",
       "    </tr>\n",
       "    <tr>\n",
       "      <th>Chine - RAS de Hong-Kong</th>\n",
       "      <td>100.783436</td>\n",
       "      <td>73.138607</td>\n",
       "      <td>47.11055</td>\n",
       "      <td>1199390.0</td>\n",
       "      <td>1.0</td>\n",
       "      <td>38566.712121</td>\n",
       "      <td>104.356553</td>\n",
       "      <td>5</td>\n",
       "    </tr>\n",
       "    <tr>\n",
       "      <th>Chine - RAS de Macao</th>\n",
       "      <td>101.615799</td>\n",
       "      <td>64.485488</td>\n",
       "      <td>34.58375</td>\n",
       "      <td>1063975.0</td>\n",
       "      <td>1.0</td>\n",
       "      <td>89525.344880</td>\n",
       "      <td>117.031619</td>\n",
       "      <td>5</td>\n",
       "    </tr>\n",
       "    <tr>\n",
       "      <th>Irlande</th>\n",
       "      <td>101.114510</td>\n",
       "      <td>58.975525</td>\n",
       "      <td>40.11715</td>\n",
       "      <td>1314730.0</td>\n",
       "      <td>1.0</td>\n",
       "      <td>51130.077752</td>\n",
       "      <td>106.038266</td>\n",
       "      <td>5</td>\n",
       "    </tr>\n",
       "    <tr>\n",
       "      <th>Islande</th>\n",
       "      <td>101.226994</td>\n",
       "      <td>72.508643</td>\n",
       "      <td>48.56690</td>\n",
       "      <td>1234065.0</td>\n",
       "      <td>1.0</td>\n",
       "      <td>47544.160857</td>\n",
       "      <td>108.290327</td>\n",
       "      <td>5</td>\n",
       "    </tr>\n",
       "    <tr>\n",
       "      <th>Koweït</th>\n",
       "      <td>103.661538</td>\n",
       "      <td>49.533056</td>\n",
       "      <td>39.47475</td>\n",
       "      <td>1277135.0</td>\n",
       "      <td>1.0</td>\n",
       "      <td>48401.609794</td>\n",
       "      <td>94.428624</td>\n",
       "      <td>5</td>\n",
       "    </tr>\n",
       "    <tr>\n",
       "      <th>Luxembourg</th>\n",
       "      <td>101.145038</td>\n",
       "      <td>63.463569</td>\n",
       "      <td>41.47860</td>\n",
       "      <td>1292100.0</td>\n",
       "      <td>1.0</td>\n",
       "      <td>113341.237463</td>\n",
       "      <td>106.463605</td>\n",
       "      <td>5</td>\n",
       "    </tr>\n",
       "    <tr>\n",
       "      <th>Maldives</th>\n",
       "      <td>102.071006</td>\n",
       "      <td>70.282865</td>\n",
       "      <td>44.64680</td>\n",
       "      <td>997545.0</td>\n",
       "      <td>1.0</td>\n",
       "      <td>7033.632215</td>\n",
       "      <td>107.867450</td>\n",
       "      <td>5</td>\n",
       "    </tr>\n",
       "    <tr>\n",
       "      <th>Norvège</th>\n",
       "      <td>100.981177</td>\n",
       "      <td>59.577350</td>\n",
       "      <td>40.41645</td>\n",
       "      <td>1271295.0</td>\n",
       "      <td>1.0</td>\n",
       "      <td>103110.441896</td>\n",
       "      <td>101.285916</td>\n",
       "      <td>5</td>\n",
       "    </tr>\n",
       "    <tr>\n",
       "      <th>Royaume-Uni</th>\n",
       "      <td>100.561637</td>\n",
       "      <td>56.496025</td>\n",
       "      <td>37.64610</td>\n",
       "      <td>1250125.0</td>\n",
       "      <td>1.0</td>\n",
       "      <td>42385.080963</td>\n",
       "      <td>102.297833</td>\n",
       "      <td>5</td>\n",
       "    </tr>\n",
       "    <tr>\n",
       "      <th>Suisse</th>\n",
       "      <td>101.012880</td>\n",
       "      <td>64.334159</td>\n",
       "      <td>33.90485</td>\n",
       "      <td>1238445.0</td>\n",
       "      <td>1.0</td>\n",
       "      <td>84659.015403</td>\n",
       "      <td>101.782767</td>\n",
       "      <td>5</td>\n",
       "    </tr>\n",
       "    <tr>\n",
       "      <th>Suède</th>\n",
       "      <td>100.630848</td>\n",
       "      <td>65.882025</td>\n",
       "      <td>39.23020</td>\n",
       "      <td>1160700.0</td>\n",
       "      <td>1.0</td>\n",
       "      <td>60190.029595</td>\n",
       "      <td>105.587040</td>\n",
       "      <td>5</td>\n",
       "    </tr>\n",
       "    <tr>\n",
       "      <th>Émirats arabes unis</th>\n",
       "      <td>101.520747</td>\n",
       "      <td>39.900488</td>\n",
       "      <td>38.14615</td>\n",
       "      <td>1195375.0</td>\n",
       "      <td>1.0</td>\n",
       "      <td>43315.138419</td>\n",
       "      <td>102.918838</td>\n",
       "      <td>5</td>\n",
       "    </tr>\n",
       "  </tbody>\n",
       "</table>\n",
       "</div>"
      ],
      "text/plain": [
       "                          Ratio_pop (%)  Ratio_prot (kg/personne)  \\\n",
       "Pays                                                                \n",
       "Allemagne                     99.911836                 60.647007   \n",
       "Arabie saoudite              101.912472                 43.585544   \n",
       "Autriche                     100.366257                 59.190207   \n",
       "Bermudes                     100.000000                 66.710934   \n",
       "Canada                       100.987428                 52.065486   \n",
       "Chine - RAS de Hong-Kong     100.783436                 73.138607   \n",
       "Chine - RAS de Macao         101.615799                 64.485488   \n",
       "Irlande                      101.114510                 58.975525   \n",
       "Islande                      101.226994                 72.508643   \n",
       "Koweït                       103.661538                 49.533056   \n",
       "Luxembourg                   101.145038                 63.463569   \n",
       "Maldives                     102.071006                 70.282865   \n",
       "Norvège                      100.981177                 59.577350   \n",
       "Royaume-Uni                  100.561637                 56.496025   \n",
       "Suisse                       101.012880                 64.334159   \n",
       "Suède                        100.630848                 65.882025   \n",
       "Émirats arabes unis          101.520747                 39.900488   \n",
       "\n",
       "                          Dispo_prot (kg/personne)  \\\n",
       "Pays                                                 \n",
       "Allemagne                                 37.00735   \n",
       "Arabie saoudite                           33.43035   \n",
       "Autriche                                  38.76300   \n",
       "Bermudes                                  32.98140   \n",
       "Canada                                    38.34690   \n",
       "Chine - RAS de Hong-Kong                  47.11055   \n",
       "Chine - RAS de Macao                      34.58375   \n",
       "Irlande                                   40.11715   \n",
       "Islande                                   48.56690   \n",
       "Koweït                                    39.47475   \n",
       "Luxembourg                                41.47860   \n",
       "Maldives                                  44.64680   \n",
       "Norvège                                   40.41645   \n",
       "Royaume-Uni                               37.64610   \n",
       "Suisse                                    33.90485   \n",
       "Suède                                     39.23020   \n",
       "Émirats arabes unis                       38.14615   \n",
       "\n",
       "                          Dispo_alim_tot (kcal/personne)  importateur  \\\n",
       "Pays                                                                    \n",
       "Allemagne                                      1278595.0          1.0   \n",
       "Arabie saoudite                                1188075.0          1.0   \n",
       "Autriche                                       1376050.0          1.0   \n",
       "Bermudes                                        973820.0          1.0   \n",
       "Canada                                         1277135.0          1.0   \n",
       "Chine - RAS de Hong-Kong                       1199390.0          1.0   \n",
       "Chine - RAS de Macao                           1063975.0          1.0   \n",
       "Irlande                                        1314730.0          1.0   \n",
       "Islande                                        1234065.0          1.0   \n",
       "Koweït                                         1277135.0          1.0   \n",
       "Luxembourg                                     1292100.0          1.0   \n",
       "Maldives                                        997545.0          1.0   \n",
       "Norvège                                        1271295.0          1.0   \n",
       "Royaume-Uni                                    1250125.0          1.0   \n",
       "Suisse                                         1238445.0          1.0   \n",
       "Suède                                          1160700.0          1.0   \n",
       "Émirats arabes unis                            1195375.0          1.0   \n",
       "\n",
       "                          PIB par habitant (US $)  Ratio_PIB (%)  Clusters  \n",
       "Pays                                                                        \n",
       "Allemagne                            46176.177749     105.624874         5  \n",
       "Arabie saoudite                      24934.386142      98.542832         5  \n",
       "Autriche                             50137.519579     104.304448         5  \n",
       "Bermudes                             90329.786048     102.175947         5  \n",
       "Canada                               52264.959967      99.988773         5  \n",
       "Chine - RAS de Hong-Kong             38566.712121     104.356553         5  \n",
       "Chine - RAS de Macao                 89525.344880     117.031619         5  \n",
       "Irlande                              51130.077752     106.038266         5  \n",
       "Islande                              47544.160857     108.290327         5  \n",
       "Koweït                               48401.609794      94.428624         5  \n",
       "Luxembourg                          113341.237463     106.463605         5  \n",
       "Maldives                              7033.632215     107.867450         5  \n",
       "Norvège                             103110.441896     101.285916         5  \n",
       "Royaume-Uni                          42385.080963     102.297833         5  \n",
       "Suisse                               84659.015403     101.782767         5  \n",
       "Suède                                60190.029595     105.587040         5  \n",
       "Émirats arabes unis                  43315.138419     102.918838         5  "
      ]
     },
     "execution_count": 24,
     "metadata": {},
     "output_type": "execute_result"
    }
   ],
   "source": [
    "country_to_keep = pd.merge(echantillon, clusters_df, left_index = True, right_index = True, how = \"left\")\n",
    "\n",
    "country_to_keep[country_to_keep.Clusters == 5]"
   ]
  },
  {
   "cell_type": "markdown",
   "metadata": {},
   "source": [
    "# ACP"
   ]
  },
  {
   "cell_type": "code",
   "execution_count": 25,
   "metadata": {},
   "outputs": [],
   "source": [
    "from functions import *"
   ]
  },
  {
   "cell_type": "code",
   "execution_count": 26,
   "metadata": {
    "scrolled": false
   },
   "outputs": [
    {
     "data": {
      "image/png": "[encoded data removed]",
      "text/plain": [
       "<Figure size 432x288 with 1 Axes>"
      ]
     },
     "metadata": {
      "needs_background": "light"
     },
     "output_type": "display_data"
    },
    {
     "data": {
      "image/png": "[encoded data removed]",
      "text/plain": [
       "<Figure size 504x432 with 1 Axes>"
      ]
     },
     "metadata": {
      "needs_background": "light"
     },
     "output_type": "display_data"
    },
    {
     "data": {
      "image/png": "[encoded data removed]",
      "text/plain": [
       "<Figure size 504x432 with 1 Axes>"
      ]
     },
     "metadata": {
      "needs_background": "light"
     },
     "output_type": "display_data"
    }
   ],
   "source": [
    "#Choix du nombre de composantes à calculer : \n",
    "n_comp = 7\n",
    "\n",
    "# Selection des colonnes à prendre en compte dans l'ACP : \n",
    "data_pca = echantillon_grouped[[\"Ratio_pop (%)\", \"Ratio_prot (kg/personne)\", \"Dispo_prot (kg/personne)\", \"Dispo_alim_tot (kcal/personne)\", \"importateur\", \"PIB par habitant (US $)\", \"Ratio_PIB (%)\"]]\n",
    "\n",
    "#Préparation des données pour l'ACP :\n",
    "data_pca = data_pca.fillna(data_pca.mean()) #On remplace les valeurs inconnues par la moyenne de la variable\n",
    "\n",
    "X = data_pca.values #On ne prend que les valeurs\n",
    "\n",
    "names = data_pca.index\n",
    "\n",
    "features = data_pca.columns\n",
    "\n",
    "#Centrage et réduction : \n",
    "std_scale = preprocessing.StandardScaler().fit(X) #On appelle la fonction preprocessing pour centrer\n",
    "X_scaled = std_scale.transform(X) #On réduit\n",
    "\n",
    "#Calcul des composantes principales \n",
    "pca = decomposition.PCA(n_components = n_comp)\n",
    "pca.fit(X_scaled)\n",
    "\n",
    "#Eboulis des valeurs propres \n",
    "display_scree_plot(pca)\n",
    "\n",
    "#Cercle des corrélations\n",
    "pcs = pca.components_\n",
    "display_circles(pcs, n_comp, pca, [(0,1)], labels = np.array(features))\n",
    "\n",
    "#Projection des individus \n",
    "X_projected = pca.transform(X_scaled)\n",
    "display_factorial_planes(X_projected, n_comp, pca, [(0,1)], labels = np.array(names))\n",
    "\n",
    "plt.show()"
   ]
  },
  {
   "cell_type": "code",
   "execution_count": 27,
   "metadata": {},
   "outputs": [
    {
     "data": {
      "image/png": "[encoded data removed]",
      "text/plain": [
       "<Figure size 504x432 with 1 Axes>"
      ]
     },
     "metadata": {
      "needs_background": "light"
     },
     "output_type": "display_data"
    }
   ],
   "source": [
    "#Zoom\n",
    "display_circles(pcs, n_comp, pca, [(0,1)], labels = np.array(features), lims=[0.4, 0.6, -0.2, 0.3])"
   ]
  },
  {
   "cell_type": "code",
   "execution_count": 28,
   "metadata": {},
   "outputs": [],
   "source": [
    "# Interprêtation de F1 : \n",
    "# Niveau de richesse du pays ? "
   ]
  },
  {
   "cell_type": "markdown",
   "metadata": {},
   "source": [
    "# Test D'adéquation "
   ]
  },
  {
   "cell_type": "code",
   "execution_count": 29,
   "metadata": {},
   "outputs": [],
   "source": [
    "from scipy.stats import ks_2samp"
   ]
  },
  {
   "cell_type": "markdown",
   "metadata": {},
   "source": [
    "H0 : La variable suit une loi normale /// H1 : La variable ne suit pas une loi normale"
   ]
  },
  {
   "cell_type": "markdown",
   "metadata": {},
   "source": [
    "On rejettera H0 si p_valeur < Alpha"
   ]
  },
  {
   "cell_type": "code",
   "execution_count": 30,
   "metadata": {},
   "outputs": [],
   "source": [
    "alpha = 0.05"
   ]
  },
  {
   "cell_type": "markdown",
   "metadata": {},
   "source": [
    "Ratio pop :"
   ]
  },
  {
   "cell_type": "code",
   "execution_count": 31,
   "metadata": {},
   "outputs": [
    {
     "name": "stdout",
     "output_type": "stream",
     "text": [
      "La variable suit une loi normale\n"
     ]
    }
   ],
   "source": [
    "np.random.seed(1)\n",
    "stats, pvalue = ks_2samp(echantillon[\"Ratio_pop (%)\"],list(np.random.normal(np.mean(echantillon[\"Ratio_pop (%)\"]), np.std(echantillon[\"Ratio_pop (%)\"]), 1000)))\n",
    "\n",
    "if pvalue < alpha :\n",
    "    print(\"La variable ne suit pas une loi normale\")\n",
    "else : \n",
    "    print(\"La variable suit une loi normale\")"
   ]
  },
  {
   "cell_type": "markdown",
   "metadata": {},
   "source": [
    "Ratio prot :"
   ]
  },
  {
   "cell_type": "code",
   "execution_count": 32,
   "metadata": {},
   "outputs": [
    {
     "name": "stdout",
     "output_type": "stream",
     "text": [
      "La variable suit une loi normale\n"
     ]
    }
   ],
   "source": [
    "np.random.seed(1)\n",
    "stats, pvalue = ks_2samp(echantillon[\"Ratio_prot (kg/personne)\"],list(np.random.normal(np.mean(echantillon[\"Ratio_prot (kg/personne)\"]), np.std(echantillon[\"Ratio_prot (kg/personne)\"]), 1000)))\n",
    "\n",
    "if pvalue < alpha :\n",
    "    print(\"La variable ne suit pas une loi normale\")\n",
    "else : \n",
    "    print(\"La variable suit une loi normale\")"
   ]
  },
  {
   "cell_type": "markdown",
   "metadata": {},
   "source": [
    "Dispo_prot : "
   ]
  },
  {
   "cell_type": "code",
   "execution_count": 33,
   "metadata": {},
   "outputs": [
    {
     "name": "stdout",
     "output_type": "stream",
     "text": [
      "La variable suit une loi normale\n"
     ]
    }
   ],
   "source": [
    "np.random.seed(1)\n",
    "stats, pvalue = ks_2samp(echantillon[\"Dispo_prot (kg/personne)\"],list(np.random.normal(np.mean(echantillon[\"Dispo_prot (kg/personne)\"]), np.std(echantillon[\"Dispo_prot (kg/personne)\"]), 1000)))\n",
    "\n",
    "if pvalue < alpha :\n",
    "    print(\"La variable ne suit pas une loi normale\")\n",
    "else : \n",
    "    print(\"La variable suit une loi normale\")"
   ]
  },
  {
   "cell_type": "markdown",
   "metadata": {},
   "source": [
    "Dispo_alim_tot : "
   ]
  },
  {
   "cell_type": "code",
   "execution_count": 34,
   "metadata": {},
   "outputs": [
    {
     "name": "stdout",
     "output_type": "stream",
     "text": [
      "La variable suit une loi normale\n"
     ]
    }
   ],
   "source": [
    "np.random.seed(1)\n",
    "stats, pvalue = ks_2samp(echantillon[\"Dispo_alim_tot (kcal/personne)\"],list(np.random.normal(np.mean(echantillon[\"Dispo_alim_tot (kcal/personne)\"]), np.std(echantillon[\"Dispo_alim_tot (kcal/personne)\"]), 1000)))\n",
    "\n",
    "if pvalue < alpha :\n",
    "    print(\"La variable ne suit pas une loi normale\")\n",
    "else : \n",
    "    print(\"La variable suit une loi normale\")"
   ]
  },
  {
   "cell_type": "markdown",
   "metadata": {},
   "source": [
    "PIB par habitant : "
   ]
  },
  {
   "cell_type": "code",
   "execution_count": 35,
   "metadata": {},
   "outputs": [
    {
     "name": "stdout",
     "output_type": "stream",
     "text": [
      "La variable ne suit pas une loi normale\n"
     ]
    }
   ],
   "source": [
    "np.random.seed(1)\n",
    "stats, pvalue = ks_2samp(echantillon[\"PIB par habitant (US $)\"],list(np.random.normal(np.mean(echantillon[\"PIB par habitant (US $)\"]), np.std(echantillon[\"PIB par habitant (US $)\"]), 1000)))\n",
    "\n",
    "if pvalue < alpha :\n",
    "    print(\"La variable ne suit pas une loi normale\")\n",
    "else : \n",
    "    print(\"La variable suit une loi normale\")"
   ]
  },
  {
   "cell_type": "markdown",
   "metadata": {},
   "source": [
    "Ratio_PIB : "
   ]
  },
  {
   "cell_type": "code",
   "execution_count": 36,
   "metadata": {},
   "outputs": [
    {
     "name": "stdout",
     "output_type": "stream",
     "text": [
      "La variable ne suit pas une loi normale\n"
     ]
    }
   ],
   "source": [
    "np.random.seed(1)\n",
    "stats, pvalue = ks_2samp(echantillon[\"Ratio_PIB (%)\"],list(np.random.normal(np.mean(echantillon[\"Ratio_PIB (%)\"]), np.std(echantillon[\"Ratio_PIB (%)\"]), 1000)))\n",
    "\n",
    "if pvalue < alpha :\n",
    "    print(\"La variable ne suit pas une loi normale\")\n",
    "else : \n",
    "    print(\"La variable suit une loi normale\")"
   ]
  },
  {
   "cell_type": "code",
   "execution_count": null,
   "metadata": {},
   "outputs": [],
   "source": []
  },
  {
   "cell_type": "markdown",
   "metadata": {},
   "source": [
    "# Test de comparaison"
   ]
  },
  {
   "cell_type": "code",
   "execution_count": 37,
   "metadata": {},
   "outputs": [],
   "source": [
    "import scipy"
   ]
  },
  {
   "cell_type": "markdown",
   "metadata": {},
   "source": [
    "H0 : Les deux échantillon sont identiques (moyennes et variances) /// H1 : Les deux échantillons diffèrent"
   ]
  },
  {
   "cell_type": "code",
   "execution_count": 38,
   "metadata": {},
   "outputs": [],
   "source": [
    "alpha = 0.05"
   ]
  },
  {
   "cell_type": "markdown",
   "metadata": {},
   "source": [
    "On rejette H0 si p_valeur < alpha"
   ]
  },
  {
   "cell_type": "markdown",
   "metadata": {},
   "source": [
    "Préparation des datasets :"
   ]
  },
  {
   "cell_type": "code",
   "execution_count": 42,
   "metadata": {},
   "outputs": [],
   "source": [
    "X = country_to_keep[country_to_keep.Clusters == 5][\"Ratio_prot (kg/personne)\"]\n",
    "Y = country_to_keep[country_to_keep.Clusters == 7][\"Ratio_prot (kg/personne)\"]"
   ]
  },
  {
   "cell_type": "markdown",
   "metadata": {},
   "source": [
    "Egalité des Variances : "
   ]
  },
  {
   "cell_type": "code",
   "execution_count": 43,
   "metadata": {},
   "outputs": [
    {
     "data": {
      "text/plain": [
       "BartlettResult(statistic=0.02864212907282881, pvalue=0.8656079808718062)"
      ]
     },
     "execution_count": 43,
     "metadata": {},
     "output_type": "execute_result"
    }
   ],
   "source": [
    "scipy.stats.bartlett(X,Y)\n",
    "\n",
    "#Variances = ; Donc suivent la même loi"
   ]
  },
  {
   "cell_type": "markdown",
   "metadata": {},
   "source": [
    "Egalité de moyennes : "
   ]
  },
  {
   "cell_type": "code",
   "execution_count": 44,
   "metadata": {},
   "outputs": [
    {
     "data": {
      "text/plain": [
       "Ttest_indResult(statistic=4.541148779332225, pvalue=1.7884804522297906e-05)"
      ]
     },
     "execution_count": 44,
     "metadata": {},
     "output_type": "execute_result"
    }
   ],
   "source": [
    "scipy.stats.ttest_ind(X,Y, equal_var=True)\n",
    "#Moyennes différentes, donc échantillons différents"
   ]
  },
  {
   "cell_type": "code",
   "execution_count": null,
   "metadata": {},
   "outputs": [],
   "source": []
  }
 ],
 "metadata": {
  "kernelspec": {
   "display_name": "Python 3",
   "language": "python",
   "name": "python3"
  },
  "language_info": {
   "codemirror_mode": {
    "name": "ipython",
    "version": 3
   },
   "file_extension": ".py",
   "mimetype": "text/x-python",
   "name": "python",
   "nbconvert_exporter": "python",
   "pygments_lexer": "ipython3",
   "version": "3.7.1"
  },
  "toc": {
   "base_numbering": 1,
   "nav_menu": {},
   "number_sections": true,
   "sideBar": true,
   "skip_h1_title": false,
   "title_cell": "Table of Contents",
   "title_sidebar": "Contents",
   "toc_cell": false,
   "toc_position": {},
   "toc_section_display": true,
   "toc_window_display": false
  }
 },
 "nbformat": 4,
 "nbformat_minor": 2
}
