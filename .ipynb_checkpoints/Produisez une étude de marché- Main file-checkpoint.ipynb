{
 "cells": [
  {
   "cell_type": "code",
   "execution_count": 1,
   "metadata": {},
   "outputs": [],
   "source": [
    "import pandas as pd\n",
    "import numpy as np"
   ]
  },
  {
   "cell_type": "code",
   "execution_count": 2,
   "metadata": {},
   "outputs": [],
   "source": [
    "def isNaN(df, colonne):\n",
    "    if any(pd.isna(df[colonne])):\n",
    "        print(df[pd.isna(df[colonne])])\n",
    "    else :\n",
    "        print(\"Pas de valeur NaN.\")\n",
    "        print(\"------------------\")\n",
    "        print(df.head())\n",
    "        print(\"\\n\")"
   ]
  },
  {
   "cell_type": "markdown",
   "metadata": {},
   "source": [
    "# Construction de l'échantillon"
   ]
  },
  {
   "cell_type": "code",
   "execution_count": 3,
   "metadata": {},
   "outputs": [
    {
     "data": {
      "text/html": [
       "<div>\n",
       "<style scoped>\n",
       "    .dataframe tbody tr th:only-of-type {\n",
       "        vertical-align: middle;\n",
       "    }\n",
       "\n",
       "    .dataframe tbody tr th {\n",
       "        vertical-align: top;\n",
       "    }\n",
       "\n",
       "    .dataframe thead th {\n",
       "        text-align: right;\n",
       "    }\n",
       "</style>\n",
       "<table border=\"1\" class=\"dataframe\">\n",
       "  <thead>\n",
       "    <tr style=\"text-align: right;\">\n",
       "      <th>Élément</th>\n",
       "      <th>Année</th>\n",
       "      <th>Pays</th>\n",
       "      <th>Produit</th>\n",
       "      <th>Dispo_alim (kcal/personne)</th>\n",
       "      <th>Dispo_alim (kg/personne)</th>\n",
       "      <th>Dispo_prot (kg/personne)</th>\n",
       "      <th>Population totale</th>\n",
       "    </tr>\n",
       "  </thead>\n",
       "  <tbody>\n",
       "    <tr>\n",
       "      <th>0</th>\n",
       "      <td>2012</td>\n",
       "      <td>Afghanistan</td>\n",
       "      <td>Abats Comestible</td>\n",
       "      <td>2190.0</td>\n",
       "      <td>1.82</td>\n",
       "      <td>0.29565</td>\n",
       "      <td>NaN</td>\n",
       "    </tr>\n",
       "    <tr>\n",
       "      <th>1</th>\n",
       "      <td>2012</td>\n",
       "      <td>Afghanistan</td>\n",
       "      <td>Agrumes, Autres</td>\n",
       "      <td>0.0</td>\n",
       "      <td>0.62</td>\n",
       "      <td>0.00365</td>\n",
       "      <td>NaN</td>\n",
       "    </tr>\n",
       "    <tr>\n",
       "      <th>2</th>\n",
       "      <td>2012</td>\n",
       "      <td>Afghanistan</td>\n",
       "      <td>Aliments pour enfants</td>\n",
       "      <td>365.0</td>\n",
       "      <td>0.06</td>\n",
       "      <td>0.01095</td>\n",
       "      <td>NaN</td>\n",
       "    </tr>\n",
       "    <tr>\n",
       "      <th>3</th>\n",
       "      <td>2012</td>\n",
       "      <td>Afghanistan</td>\n",
       "      <td>Ananas</td>\n",
       "      <td>0.0</td>\n",
       "      <td>0.00</td>\n",
       "      <td>NaN</td>\n",
       "      <td>NaN</td>\n",
       "    </tr>\n",
       "    <tr>\n",
       "      <th>4</th>\n",
       "      <td>2012</td>\n",
       "      <td>Afghanistan</td>\n",
       "      <td>Bananes</td>\n",
       "      <td>1095.0</td>\n",
       "      <td>1.60</td>\n",
       "      <td>0.01095</td>\n",
       "      <td>NaN</td>\n",
       "    </tr>\n",
       "  </tbody>\n",
       "</table>\n",
       "</div>"
      ],
      "text/plain": [
       "Élément  Année         Pays                Produit  \\\n",
       "0         2012  Afghanistan       Abats Comestible   \n",
       "1         2012  Afghanistan        Agrumes, Autres   \n",
       "2         2012  Afghanistan  Aliments pour enfants   \n",
       "3         2012  Afghanistan                 Ananas   \n",
       "4         2012  Afghanistan                Bananes   \n",
       "\n",
       "Élément  Dispo_alim (kcal/personne)  Dispo_alim (kg/personne)  \\\n",
       "0                            2190.0                      1.82   \n",
       "1                               0.0                      0.62   \n",
       "2                             365.0                      0.06   \n",
       "3                               0.0                      0.00   \n",
       "4                            1095.0                      1.60   \n",
       "\n",
       "Élément  Dispo_prot (kg/personne)  Population totale  \n",
       "0                         0.29565                NaN  \n",
       "1                         0.00365                NaN  \n",
       "2                         0.01095                NaN  \n",
       "3                             NaN                NaN  \n",
       "4                         0.01095                NaN  "
      ]
     },
     "execution_count": 3,
     "metadata": {},
     "output_type": "execute_result"
    }
   ],
   "source": [
    "data = pd.read_csv(\"FAOSTAT_stats_1.csv\")\n",
    "data = data[['Pays', 'Produit', 'Élément', 'Année', 'Valeur']]\n",
    "data = pd.pivot_table(data, index=['Année', 'Pays', 'Produit'], \n",
    "                      columns = ['Élément'],\n",
    "                     values='Valeur')\n",
    "data = data.reset_index()\n",
    "\n",
    "#Unités : \n",
    "\n",
    "#Passons la disponibilité alimentaire en kcal/pers/an au lieu de kcal/pers/jour : \n",
    "data['Disponibilité alimentaire (Kcal/personne/jour)'] = data['Disponibilité alimentaire (Kcal/personne/jour)']*365\n",
    "data = data.rename(columns = {'Disponibilité alimentaire (Kcal/personne/jour)':'Dispo_alim (kcal/personne)'})\n",
    "\n",
    "#Passons la disponinilité de protéines en kg/pers/an au lieu de g/pers/jour : \n",
    "data['Disponibilité de protéines en quantité (g/personne/jour)'] = data['Disponibilité de protéines en quantité (g/personne/jour)']*0.365\n",
    "data = data.rename(columns = {'Disponibilité de protéines en quantité (g/personne/jour)' : 'Dispo_prot (kg/personne)'})\n",
    "\n",
    "#Changeons le nom de Disponibilité alimentaire en quantité : \n",
    "data = data.rename(columns = {'Disponibilité alimentaire en quantité (kg/personne/an)' : 'Dispo_alim (kg/personne)'})\n",
    "\n",
    "data.head()"
   ]
  },
  {
   "cell_type": "markdown",
   "metadata": {},
   "source": [
    "## Calcul de la disponibilité alimentaire Totale (en kg) / Pays"
   ]
  },
  {
   "cell_type": "code",
   "execution_count": 4,
   "metadata": {},
   "outputs": [
    {
     "name": "stdout",
     "output_type": "stream",
     "text": [
      "Pas de valeur NaN.\n",
      "------------------\n",
      "Élément            Pays  Dispo_alim_tot (kg/personne)\n",
      "175         Afghanistan                        351.41\n",
      "176      Afrique du Sud                        564.80\n",
      "177             Albanie                       1095.54\n",
      "178             Algérie                        809.13\n",
      "179           Allemagne                        957.52\n",
      "\n",
      "\n"
     ]
    }
   ],
   "source": [
    "dispo_alim_tot_kg = data[[\"Pays\", \"Année\", \"Dispo_alim (kg/personne)\"]]\n",
    "dispo_alim_tot_kg = dispo_alim_tot_kg.groupby([\"Année\", \"Pays\"]).sum()\n",
    "dispo_alim_tot_kg = dispo_alim_tot_kg.rename(columns={\"Dispo_alim (kg/personne)\":\"Dispo_alim_tot (kg/personne)\"})\n",
    "dispo_alim_tot_kg = dispo_alim_tot_kg.reset_index()\n",
    "dispo_alim_tot_kg = dispo_alim_tot_kg[dispo_alim_tot_kg.Année == 2013]\n",
    "dispo_alim_tot_kg = dispo_alim_tot_kg[[\"Pays\",\"Dispo_alim_tot (kg/personne)\"]]\n",
    "\n",
    "isNaN(dispo_alim_tot_kg, \"Dispo_alim_tot (kg/personne)\")"
   ]
  },
  {
   "cell_type": "markdown",
   "metadata": {},
   "source": [
    "## Calcul de la disponibilité alimentaire Totale (en kcal) / Pays"
   ]
  },
  {
   "cell_type": "code",
   "execution_count": 5,
   "metadata": {},
   "outputs": [
    {
     "name": "stdout",
     "output_type": "stream",
     "text": [
      "Pas de valeur NaN.\n",
      "------------------\n",
      "Élément            Pays  Dispo_alim_tot (kcal/personne)\n",
      "175         Afghanistan                        761755.0\n",
      "176      Afrique du Sud                       1102300.0\n",
      "177             Albanie                       1163620.0\n",
      "178             Algérie                       1201945.0\n",
      "179           Allemagne                       1278595.0\n",
      "\n",
      "\n"
     ]
    }
   ],
   "source": [
    "dispo_alim_tot_kcal = data[[\"Pays\", \"Année\", \"Dispo_alim (kcal/personne)\"]]\n",
    "dispo_alim_tot_kcal = dispo_alim_tot_kcal.groupby([\"Année\", \"Pays\"]).sum()\n",
    "dispo_alim_tot_kcal = dispo_alim_tot_kcal.rename(columns={\"Dispo_alim (kcal/personne)\":\"Dispo_alim_tot (kcal/personne)\"})\n",
    "dispo_alim_tot_kcal = dispo_alim_tot_kcal.reset_index()\n",
    "dispo_alim_tot_kcal = dispo_alim_tot_kcal[dispo_alim_tot_kcal.Année == 2013]\n",
    "dispo_alim_tot_kcal = dispo_alim_tot_kcal[[\"Pays\", \"Dispo_alim_tot (kcal/personne)\"]]\n",
    "\n",
    "isNaN(dispo_alim_tot_kcal, \"Dispo_alim_tot (kcal/personne)\") "
   ]
  },
  {
   "cell_type": "markdown",
   "metadata": {},
   "source": [
    "## Calcul du ratio pop n/n-1 "
   ]
  },
  {
   "cell_type": "code",
   "execution_count": 6,
   "metadata": {},
   "outputs": [
    {
     "name": "stdout",
     "output_type": "stream",
     "text": [
      "Pas de valeur NaN.\n",
      "------------------\n",
      "Élément            Pays  Année  Population totale\n",
      "0           Afghanistan   2012         29825000.0\n",
      "1           Afghanistan   2013         30552000.0\n",
      "2        Afrique du Sud   2012         52386000.0\n",
      "3        Afrique du Sud   2013         52776000.0\n",
      "4               Albanie   2012          3162000.0\n",
      "\n",
      "\n"
     ]
    }
   ],
   "source": [
    "ratio_pop = data[[\"Année\", \"Pays\", \"Produit\", \"Population totale\"]]\n",
    "ratio_pop = ratio_pop[ratio_pop.Produit == \"Population\"]\n",
    "ratio_pop = ratio_pop.groupby(['Pays', 'Année']).sum()\n",
    "\n",
    "#On remet la colonne à la bonne unité (unité de base : 1 = 1000) : \n",
    "ratio_pop['Population totale'] = ratio_pop['Population totale']*1000\n",
    "\n",
    "#Reset index : \n",
    "ratio_pop = ratio_pop.reset_index()\n",
    "\n",
    "isNaN(ratio_pop, 'Population totale')"
   ]
  },
  {
   "cell_type": "code",
   "execution_count": 7,
   "metadata": {},
   "outputs": [
    {
     "name": "stdout",
     "output_type": "stream",
     "text": [
      "Pas de valeur NaN.\n",
      "------------------\n",
      "Élément            Pays  Ratio_pop (%)\n",
      "0           Afghanistan     102.437552\n",
      "1        Afrique du Sud     100.744474\n",
      "2               Albanie     100.347881\n",
      "3               Algérie     101.886596\n",
      "4             Allemagne      99.911836\n",
      "\n",
      "\n"
     ]
    }
   ],
   "source": [
    "var_pop = ratio_pop[ratio_pop.Année == 2013]\n",
    "var_pop = var_pop[['Pays', 'Population totale']]\n",
    "pop_n_1 = ratio_pop[ratio_pop.Année == 2012]\n",
    "pop_n_1 = pop_n_1[['Pays', 'Population totale']]\n",
    "\n",
    "var_pop = pd.merge(var_pop, pop_n_1,left_on='Pays', right_on='Pays')\n",
    "var_pop = var_pop.rename(columns = {\"Population totale_x\" : \"Population totale 2013\", \"Population totale_y\" : \"Population totale 2012\"})\n",
    "\n",
    "var_pop['Ratio_pop (%)'] = (var_pop['Population totale 2013']/ var_pop['Population totale 2012'])*100\n",
    "var_pop = var_pop[[\"Pays\", \"Ratio_pop (%)\"]]\n",
    "\n",
    "isNaN(var_pop, \"Ratio_pop (%)\")"
   ]
  },
  {
   "cell_type": "markdown",
   "metadata": {},
   "source": [
    "## Calcul de la disponibilité alimentaire en protéines "
   ]
  },
  {
   "cell_type": "code",
   "execution_count": 8,
   "metadata": {},
   "outputs": [
    {
     "name": "stdout",
     "output_type": "stream",
     "text": [
      "Pas de valeur NaN.\n",
      "------------------\n",
      "Élément            Pays  Dispo_prot (kg/personne)\n",
      "175         Afghanistan                  21.26490\n",
      "176      Afrique du Sud                  31.14545\n",
      "177             Albanie                  40.65005\n",
      "178             Algérie                  33.55080\n",
      "179           Allemagne                  37.00735\n",
      "\n",
      "\n"
     ]
    }
   ],
   "source": [
    "dispo_prot = data[[\"Pays\", \"Année\", \"Dispo_prot (kg/personne)\"]]\n",
    "dispo_prot = dispo_prot.groupby([\"Année\", \"Pays\"]).sum()\n",
    "dispo_prot = dispo_prot.reset_index()\n",
    "dispo_prot = dispo_prot[dispo_prot.Année == 2013]\n",
    "dispo_prot = dispo_prot[[\"Pays\", \"Dispo_prot (kg/personne)\"]]\n",
    "\n",
    "isNaN(dispo_prot,\"Dispo_prot (kg/personne)\")"
   ]
  },
  {
   "cell_type": "markdown",
   "metadata": {},
   "source": [
    "## Calcul du ratio protéines d'origine animales / quantité totale de protéines "
   ]
  },
  {
   "cell_type": "code",
   "execution_count": 9,
   "metadata": {},
   "outputs": [
    {
     "data": {
      "text/html": [
       "<div>\n",
       "<style scoped>\n",
       "    .dataframe tbody tr th:only-of-type {\n",
       "        vertical-align: middle;\n",
       "    }\n",
       "\n",
       "    .dataframe tbody tr th {\n",
       "        vertical-align: top;\n",
       "    }\n",
       "\n",
       "    .dataframe thead th {\n",
       "        text-align: right;\n",
       "    }\n",
       "</style>\n",
       "<table border=\"1\" class=\"dataframe\">\n",
       "  <thead>\n",
       "    <tr style=\"text-align: right;\">\n",
       "      <th></th>\n",
       "      <th>Année</th>\n",
       "      <th>Pays</th>\n",
       "      <th>Produit</th>\n",
       "      <th>Dispo_prot (kg/personne)</th>\n",
       "      <th>Origine_animale</th>\n",
       "    </tr>\n",
       "  </thead>\n",
       "  <tbody>\n",
       "    <tr>\n",
       "      <th>14528</th>\n",
       "      <td>2013</td>\n",
       "      <td>Afghanistan</td>\n",
       "      <td>Abats Comestible</td>\n",
       "      <td>0.28105</td>\n",
       "      <td>True</td>\n",
       "    </tr>\n",
       "    <tr>\n",
       "      <th>14529</th>\n",
       "      <td>2013</td>\n",
       "      <td>Afghanistan</td>\n",
       "      <td>Agrumes, Autres</td>\n",
       "      <td>0.00730</td>\n",
       "      <td>False</td>\n",
       "    </tr>\n",
       "    <tr>\n",
       "      <th>14530</th>\n",
       "      <td>2013</td>\n",
       "      <td>Afghanistan</td>\n",
       "      <td>Aliments pour enfants</td>\n",
       "      <td>0.01095</td>\n",
       "      <td>False</td>\n",
       "    </tr>\n",
       "    <tr>\n",
       "      <th>14531</th>\n",
       "      <td>2013</td>\n",
       "      <td>Afghanistan</td>\n",
       "      <td>Ananas</td>\n",
       "      <td>NaN</td>\n",
       "      <td>False</td>\n",
       "    </tr>\n",
       "    <tr>\n",
       "      <th>14532</th>\n",
       "      <td>2013</td>\n",
       "      <td>Afghanistan</td>\n",
       "      <td>Bananes</td>\n",
       "      <td>0.01825</td>\n",
       "      <td>False</td>\n",
       "    </tr>\n",
       "  </tbody>\n",
       "</table>\n",
       "</div>"
      ],
      "text/plain": [
       "       Année         Pays                Produit  Dispo_prot (kg/personne)  \\\n",
       "14528   2013  Afghanistan       Abats Comestible                   0.28105   \n",
       "14529   2013  Afghanistan        Agrumes, Autres                   0.00730   \n",
       "14530   2013  Afghanistan  Aliments pour enfants                   0.01095   \n",
       "14531   2013  Afghanistan                 Ananas                       NaN   \n",
       "14532   2013  Afghanistan                Bananes                   0.01825   \n",
       "\n",
       "       Origine_animale  \n",
       "14528             True  \n",
       "14529            False  \n",
       "14530            False  \n",
       "14531            False  \n",
       "14532            False  "
      ]
     },
     "execution_count": 9,
     "metadata": {},
     "output_type": "execute_result"
    }
   ],
   "source": [
    "#On intègre d'abord le fichier contenant les produits d'origine animale : \n",
    "data_ani = pd.read_csv(\"FAOSTAT_prot_ani.csv\")\n",
    "data_ani = data_ani[['Pays', \"Code Produit\", 'Produit', 'Élément', 'Année', 'Valeur']]\n",
    "data_ani = pd.pivot_table(data_ani, index=['Année', 'Pays', 'Produit'], \n",
    "                      columns = ['Élément'],\n",
    "                     values='Valeur')\n",
    "data_ani = data_ani.reset_index()\n",
    "\n",
    "#On récupère ainsi les produits d'origine animale. \n",
    "\n",
    "#On cherche ensuite si les produits du Df Data correspondent ou non aux produits du df data_ani : \n",
    "is_ani = data[data.Année == 2013]\n",
    "result = []\n",
    "for i in is_ani['Produit'].iteritems():\n",
    "    resultat = any(i[1] == data_ani['Produit'])\n",
    "    result.append(resultat)\n",
    "\n",
    "#On convertie notre list result en Df et on merge avec le Df is_ani :\n",
    "result_df = pd.DataFrame(result, index=is_ani.index, columns=[\"Origine_animale\"])\n",
    "is_ani = pd.merge(is_ani, result_df, left_index=True, right_index=True)\n",
    "#On ne garde que les colonnes intéressantes : \n",
    "is_ani = is_ani[[\"Année\", \"Pays\", \"Produit\", \"Dispo_prot (kg/personne)\", \"Origine_animale\"]]\n",
    "is_ani.head()"
   ]
  },
  {
   "cell_type": "code",
   "execution_count": 10,
   "metadata": {},
   "outputs": [
    {
     "name": "stdout",
     "output_type": "stream",
     "text": [
      "Pas de valeur NaN.\n",
      "------------------\n",
      "   Année            Pays  Ratio_prot (kg/personne)\n",
      "0   2013     Afghanistan                 20.957775\n",
      "1   2013  Afrique du Sud                 42.646197\n",
      "2   2013         Albanie                 53.344707\n",
      "3   2013         Algérie                 27.175805\n",
      "4   2013       Allemagne                 60.647007\n",
      "\n",
      "\n"
     ]
    }
   ],
   "source": [
    "is_ani_yes = is_ani[is_ani.Origine_animale == True]\n",
    "is_ani_all = is_ani\n",
    "\n",
    "is_ani_yes = is_ani_yes[[\"Année\", \"Pays\", \"Dispo_prot (kg/personne)\"]]\n",
    "is_ani_yes = is_ani_yes.groupby([\"Année\", \"Pays\"]).sum()\n",
    "is_ani_yes = is_ani_yes.reset_index()\n",
    "\n",
    "is_ani_all = is_ani_all[[\"Année\", \"Pays\", \"Dispo_prot (kg/personne)\"]]\n",
    "is_ani_all = is_ani_all.groupby([\"Année\", \"Pays\"]).sum()\n",
    "is_ani_all = is_ani_all.reset_index()\n",
    "\n",
    "ratio_prot = is_ani_yes[[\"Année\", \"Pays\"]]\n",
    "ratio_prot['Ratio_prot (kg/personne)'] = (is_ani_yes[\"Dispo_prot (kg/personne)\"] / is_ani_all[\"Dispo_prot (kg/personne)\"])*100\n",
    "\n",
    "isNaN(ratio_prot,\"Ratio_prot (kg/personne)\")"
   ]
  },
  {
   "cell_type": "markdown",
   "metadata": {},
   "source": [
    "## Ajout de l'Import / Export de poulet "
   ]
  },
  {
   "cell_type": "code",
   "execution_count": 11,
   "metadata": {},
   "outputs": [
    {
     "name": "stdout",
     "output_type": "stream",
     "text": [
      "Pas de valeur NaN.\n",
      "------------------\n",
      "Élément            Pays  Importations (Tonnes)\n",
      "2573        Afghanistan                48389.0\n",
      "2589     Afrique du Sud               319687.0\n",
      "2605            Albanie                21813.0\n",
      "2619            Algérie                    0.0\n",
      "2635          Allemagne               343958.0\n",
      "\n",
      "\n"
     ]
    }
   ],
   "source": [
    "#Chargement du fichier : \n",
    "data_poulet = pd.read_csv(\"FAOSTAT_poulet_import_export.csv\")\n",
    "#Mise en place d'un pivot_table : \n",
    "data_poulet = data_poulet[['Zone', 'Produit', 'Élément', 'Année', 'Valeur', 'Unité']]\n",
    "data_poulet = pd.pivot_table(data_poulet, index=['Année', 'Zone', 'Produit', 'Unité'], \n",
    "                      columns = ['Élément'],\n",
    "                     values='Valeur')\n",
    "data_poulet = data_poulet.reset_index()\n",
    "data_poulet = data_poulet.rename(columns={\"Zone\":\"Pays\"})\n",
    "#On ne garde que viande de volaille total : \n",
    "data_poulet = data_poulet[data_poulet.Produit == \"Viande, volaille\"]\n",
    "data_poulet = data_poulet[data_poulet.Année == 2013]\n",
    "\n",
    "import_poulet = data_poulet[data_poulet.Unité == \"tonnes\"][[\"Pays\",\"Importations - Quantité\"]]\n",
    "import_poulet = import_poulet.rename(columns={\"Importations - Quantité\":\"Importations (Tonnes)\"})\n",
    "\n",
    "isNaN(import_poulet, \"Importations (Tonnes)\")"
   ]
  },
  {
   "cell_type": "markdown",
   "metadata": {},
   "source": [
    "## Ajout du PIB / Habitant : "
   ]
  },
  {
   "cell_type": "markdown",
   "metadata": {},
   "source": [
    "PIB par habitant (data_pib_2013)"
   ]
  },
  {
   "cell_type": "code",
   "execution_count": 12,
   "metadata": {},
   "outputs": [
    {
     "name": "stdout",
     "output_type": "stream",
     "text": [
      "Pas de valeur NaN.\n",
      "------------------\n",
      "Élément            Pays  PIB par habitant (US $)\n",
      "212         Afghanistan               681.033974\n",
      "213      Afrique du Sud              6818.736993\n",
      "214             Albanie              4376.970549\n",
      "215             Algérie              5471.866638\n",
      "216           Allemagne             46176.177749\n",
      "\n",
      "\n"
     ]
    }
   ],
   "source": [
    "data_pib = pd.read_csv(\"FAOSTAT_pib_h.csv\")\n",
    "data_pib = data_pib[['Zone', 'Produit', 'Élément', 'Année', 'Valeur']]\n",
    "data_pib = pd.pivot_table(data_pib, index=['Année', 'Zone', 'Produit'], \n",
    "                      columns = ['Élément'],\n",
    "                     values='Valeur')\n",
    "data_pib = data_pib.reset_index()\n",
    "data_pib = data_pib.rename(columns={\"Zone\":\"Pays\"})\n",
    "\n",
    "data_pib_2013 = data_pib[data_pib.Année == 2013]\n",
    "data_pib_2013 = data_pib_2013.rename(columns = {\"Valeur (US $)\" : \"PIB par habitant (US $)\"})\n",
    "data_pib_2013 = data_pib_2013[[\"Pays\", \"PIB par habitant (US $)\"]]\n",
    "\n",
    "isNaN(data_pib_2013, \"PIB par habitant (US $)\")"
   ]
  },
  {
   "cell_type": "markdown",
   "metadata": {},
   "source": [
    "Evolution du PIB / habitant (evo_pib)"
   ]
  },
  {
   "cell_type": "code",
   "execution_count": 13,
   "metadata": {},
   "outputs": [
    {
     "name": "stdout",
     "output_type": "stream",
     "text": [
      "Pas de valeur NaN.\n",
      "------------------\n",
      "Élément            Pays  Ratio_PIB (%)\n",
      "0           Afghanistan      98.006592\n",
      "1        Afrique du Sud      91.181948\n",
      "2               Albanie     103.743128\n",
      "3               Algérie      98.329483\n",
      "4             Allemagne     105.624874\n",
      "\n",
      "\n"
     ]
    }
   ],
   "source": [
    "evo_pib = data_pib[data_pib.Année == 2013]\n",
    "evo_pib = evo_pib[['Pays', 'Valeur (US $)']]\n",
    "evo_pib_1 = data_pib[data_pib.Année == 2012]\n",
    "evo_pib_1 = evo_pib_1[['Pays', 'Valeur (US $)']]\n",
    "\n",
    "evo_pib = pd.merge(evo_pib, evo_pib_1,left_on='Pays', right_on='Pays')\n",
    "evo_pib = evo_pib.rename(columns = {\"Valeur (US $)_x\" : \"PIB_2013\", \"Valeur (US $)_y\" : \"PIB_2012\"})\n",
    "\n",
    "evo_pib['Ratio_PIB (%)'] = (evo_pib['PIB_2013']/ evo_pib['PIB_2012'])*100\n",
    "evo_pib = evo_pib[[\"Pays\", \"Ratio_PIB (%)\"]]\n",
    "\n",
    "isNaN(evo_pib, \"Ratio_PIB (%)\")"
   ]
  },
  {
   "cell_type": "markdown",
   "metadata": {},
   "source": [
    "# Ajout des éléments à l'échantillon : "
   ]
  },
  {
   "cell_type": "markdown",
   "metadata": {},
   "source": [
    "## Mise en place du fichier"
   ]
  },
  {
   "cell_type": "code",
   "execution_count": 14,
   "metadata": {},
   "outputs": [
    {
     "data": {
      "text/html": [
       "<div>\n",
       "<style scoped>\n",
       "    .dataframe tbody tr th:only-of-type {\n",
       "        vertical-align: middle;\n",
       "    }\n",
       "\n",
       "    .dataframe tbody tr th {\n",
       "        vertical-align: top;\n",
       "    }\n",
       "\n",
       "    .dataframe thead th {\n",
       "        text-align: right;\n",
       "    }\n",
       "</style>\n",
       "<table border=\"1\" class=\"dataframe\">\n",
       "  <thead>\n",
       "    <tr style=\"text-align: right;\">\n",
       "      <th></th>\n",
       "      <th>Ratio_pop (%)</th>\n",
       "      <th>Ratio_prot (kg/personne)</th>\n",
       "      <th>Dispo_prot (kg/personne)</th>\n",
       "      <th>Dispo_alim_tot (kcal/personne)</th>\n",
       "      <th>Importations (Tonnes)</th>\n",
       "      <th>PIB par habitant (US $)</th>\n",
       "      <th>Ratio_PIB (%)</th>\n",
       "    </tr>\n",
       "    <tr>\n",
       "      <th>Pays</th>\n",
       "      <th></th>\n",
       "      <th></th>\n",
       "      <th></th>\n",
       "      <th></th>\n",
       "      <th></th>\n",
       "      <th></th>\n",
       "      <th></th>\n",
       "    </tr>\n",
       "  </thead>\n",
       "  <tbody>\n",
       "    <tr>\n",
       "      <th>Afghanistan</th>\n",
       "      <td>102.437552</td>\n",
       "      <td>20.957775</td>\n",
       "      <td>21.26490</td>\n",
       "      <td>761755.0</td>\n",
       "      <td>48389.0</td>\n",
       "      <td>681.033974</td>\n",
       "      <td>98.006592</td>\n",
       "    </tr>\n",
       "    <tr>\n",
       "      <th>Afrique du Sud</th>\n",
       "      <td>100.744474</td>\n",
       "      <td>42.646197</td>\n",
       "      <td>31.14545</td>\n",
       "      <td>1102300.0</td>\n",
       "      <td>319687.0</td>\n",
       "      <td>6818.736993</td>\n",
       "      <td>91.181948</td>\n",
       "    </tr>\n",
       "    <tr>\n",
       "      <th>Albanie</th>\n",
       "      <td>100.347881</td>\n",
       "      <td>53.344707</td>\n",
       "      <td>40.65005</td>\n",
       "      <td>1163620.0</td>\n",
       "      <td>21813.0</td>\n",
       "      <td>4376.970549</td>\n",
       "      <td>103.743128</td>\n",
       "    </tr>\n",
       "    <tr>\n",
       "      <th>Algérie</th>\n",
       "      <td>101.886596</td>\n",
       "      <td>27.175805</td>\n",
       "      <td>33.55080</td>\n",
       "      <td>1201945.0</td>\n",
       "      <td>0.0</td>\n",
       "      <td>5471.866638</td>\n",
       "      <td>98.329483</td>\n",
       "    </tr>\n",
       "    <tr>\n",
       "      <th>Allemagne</th>\n",
       "      <td>99.911836</td>\n",
       "      <td>60.647007</td>\n",
       "      <td>37.00735</td>\n",
       "      <td>1278595.0</td>\n",
       "      <td>343958.0</td>\n",
       "      <td>46176.177749</td>\n",
       "      <td>105.624874</td>\n",
       "    </tr>\n",
       "  </tbody>\n",
       "</table>\n",
       "</div>"
      ],
      "text/plain": [
       "                Ratio_pop (%)  Ratio_prot (kg/personne)  \\\n",
       "Pays                                                      \n",
       "Afghanistan        102.437552                 20.957775   \n",
       "Afrique du Sud     100.744474                 42.646197   \n",
       "Albanie            100.347881                 53.344707   \n",
       "Algérie            101.886596                 27.175805   \n",
       "Allemagne           99.911836                 60.647007   \n",
       "\n",
       "                Dispo_prot (kg/personne)  Dispo_alim_tot (kcal/personne)  \\\n",
       "Pays                                                                       \n",
       "Afghanistan                     21.26490                        761755.0   \n",
       "Afrique du Sud                  31.14545                       1102300.0   \n",
       "Albanie                         40.65005                       1163620.0   \n",
       "Algérie                         33.55080                       1201945.0   \n",
       "Allemagne                       37.00735                       1278595.0   \n",
       "\n",
       "                Importations (Tonnes)  PIB par habitant (US $)  Ratio_PIB (%)  \n",
       "Pays                                                                           \n",
       "Afghanistan                   48389.0               681.033974      98.006592  \n",
       "Afrique du Sud               319687.0              6818.736993      91.181948  \n",
       "Albanie                       21813.0              4376.970549     103.743128  \n",
       "Algérie                           0.0              5471.866638      98.329483  \n",
       "Allemagne                    343958.0             46176.177749     105.624874  "
      ]
     },
     "execution_count": 14,
     "metadata": {},
     "output_type": "execute_result"
    }
   ],
   "source": [
    "echantillon = pd.merge(dispo_alim_tot_kg, dispo_alim_tot_kcal, left_on=\"Pays\", right_on=\"Pays\", how='left')\n",
    "echantillon = pd.merge(echantillon, var_pop, left_on=\"Pays\", right_on=\"Pays\", how='left')\n",
    "echantillon = pd.merge(echantillon, dispo_prot, left_on=\"Pays\", right_on=\"Pays\", how='left')\n",
    "echantillon = pd.merge(echantillon, ratio_prot, left_on=\"Pays\", right_on=\"Pays\", how='left')\n",
    "echantillon = pd.merge(echantillon, import_poulet, left_on=\"Pays\", right_on=\"Pays\", how='left')\n",
    "echantillon = pd.merge(echantillon, data_pib_2013, left_on=\"Pays\", right_on=\"Pays\", how='left')\n",
    "echantillon = pd.merge(echantillon, evo_pib, left_on=\"Pays\", right_on=\"Pays\", how='left')\n",
    "\n",
    "\n",
    "#On passe pays en index et ne garde que les colonnes importantes :\n",
    "echantillon.index = echantillon['Pays']\n",
    "echantillon = echantillon[[\"Ratio_pop (%)\", \"Ratio_prot (kg/personne)\", \"Dispo_prot (kg/personne)\", \"Dispo_alim_tot (kcal/personne)\", \"Importations (Tonnes)\", \"PIB par habitant (US $)\", \"Ratio_PIB (%)\"]]\n",
    "#Trois pays ne sont pas présents dans les df evo_pib et import_poulet.\n",
    "#Comme l'information est manquante, nous supprimons ces pays (un mean() aurait été possible, mais ne garantirait pas la précisions des données)\n",
    "echantillon = echantillon.drop(index = [\"Chine, Taiwan Province de\", \"Chine\", \"République populaire démocratique de Corée\"])\n",
    "\n",
    "echantillon.head()"
   ]
  },
  {
   "cell_type": "markdown",
   "metadata": {},
   "source": [
    "# Dendogramme"
   ]
  },
  {
   "cell_type": "code",
   "execution_count": 15,
   "metadata": {},
   "outputs": [],
   "source": [
    "from functions import plot_dendrogram\n",
    "from scipy.cluster.hierarchy import linkage, fcluster\n",
    "from sklearn import preprocessing, decomposition"
   ]
  },
  {
   "cell_type": "code",
   "execution_count": 16,
   "metadata": {},
   "outputs": [
    {
     "data": {
      "text/plain": [
       "False"
      ]
     },
     "execution_count": 16,
     "metadata": {},
     "output_type": "execute_result"
    }
   ],
   "source": [
    "np.any(np.isnan(echantillon))"
   ]
  },
  {
   "cell_type": "code",
   "execution_count": 17,
   "metadata": {},
   "outputs": [],
   "source": [
    "# préparation des données pour le clustering\n",
    "X = echantillon.values\n",
    "names = echantillon.index\n",
    "\n",
    "# Centrage et Réduction\n",
    "std_scale = preprocessing.StandardScaler().fit(X)\n",
    "X_scaled = std_scale.transform(X)"
   ]
  },
  {
   "cell_type": "code",
   "execution_count": 48,
   "metadata": {},
   "outputs": [
    {
     "data": {
      "image/png": "[encoded data removed]",
      "text/plain": [
       "<Figure size 720x1800 with 1 Axes>"
      ]
     },
     "metadata": {
      "needs_background": "light"
     },
     "output_type": "display_data"
    }
   ],
   "source": [
    "# Clustering hiérarchique\n",
    "Z = linkage(X_scaled, 'ward')\n",
    "\n",
    "# Affichage du dendrogramme\n",
    "def plot_dendrogram(Z, names):\n",
    "    plt.figure(figsize=(10,25))\n",
    "    plt.title('Hierarchical Clustering Dendrogram')\n",
    "    plt.xlabel('distance')\n",
    "    dendrogram(\n",
    "        Z,\n",
    "        labels = names,\n",
    "        orientation = \"left\",\n",
    "    )\n",
    "    plt.savefig(\"Graphiques/Dendrogramme.png\")\n",
    "    plt.show()\n",
    "plot_dendrogram(Z, names)"
   ]
  },
  {
   "cell_type": "code",
   "execution_count": 19,
   "metadata": {},
   "outputs": [],
   "source": [
    "#Découpage en 7 clusters : \n",
    "clusters = fcluster(Z, 7, criterion='maxclust')"
   ]
  },
  {
   "cell_type": "markdown",
   "metadata": {},
   "source": [
    "## Calcul des centroïdes"
   ]
  },
  {
   "cell_type": "code",
   "execution_count": 20,
   "metadata": {},
   "outputs": [],
   "source": [
    "#On passe par mean() pour calculer les centroïdes de chaque groupe (Point à vérifier tout de même) \n",
    "#Puisque la classification hiérarchique n'utilise pas de centres."
   ]
  },
  {
   "cell_type": "code",
   "execution_count": 21,
   "metadata": {},
   "outputs": [
    {
     "data": {
      "text/html": [
       "<div>\n",
       "<style scoped>\n",
       "    .dataframe tbody tr th:only-of-type {\n",
       "        vertical-align: middle;\n",
       "    }\n",
       "\n",
       "    .dataframe tbody tr th {\n",
       "        vertical-align: top;\n",
       "    }\n",
       "\n",
       "    .dataframe thead th {\n",
       "        text-align: right;\n",
       "    }\n",
       "</style>\n",
       "<table border=\"1\" class=\"dataframe\">\n",
       "  <thead>\n",
       "    <tr style=\"text-align: right;\">\n",
       "      <th></th>\n",
       "      <th>Ratio_pop (%)</th>\n",
       "      <th>Ratio_prot (kg/personne)</th>\n",
       "      <th>Dispo_prot (kg/personne)</th>\n",
       "      <th>Dispo_alim_tot (kcal/personne)</th>\n",
       "      <th>Importations (Tonnes)</th>\n",
       "      <th>PIB par habitant (US $)</th>\n",
       "      <th>Ratio_PIB (%)</th>\n",
       "    </tr>\n",
       "    <tr>\n",
       "      <th>Clusters</th>\n",
       "      <th></th>\n",
       "      <th></th>\n",
       "      <th></th>\n",
       "      <th></th>\n",
       "      <th></th>\n",
       "      <th></th>\n",
       "      <th></th>\n",
       "    </tr>\n",
       "  </thead>\n",
       "  <tbody>\n",
       "    <tr>\n",
       "      <th>1</th>\n",
       "      <td>102.427914</td>\n",
       "      <td>22.182404</td>\n",
       "      <td>20.982938</td>\n",
       "      <td>8.693502e+05</td>\n",
       "      <td>43481.281250</td>\n",
       "      <td>1572.833579</td>\n",
       "      <td>108.446614</td>\n",
       "    </tr>\n",
       "    <tr>\n",
       "      <th>2</th>\n",
       "      <td>101.978910</td>\n",
       "      <td>28.605668</td>\n",
       "      <td>22.441011</td>\n",
       "      <td>8.619475e+05</td>\n",
       "      <td>8623.055556</td>\n",
       "      <td>2210.074838</td>\n",
       "      <td>95.320082</td>\n",
       "    </tr>\n",
       "    <tr>\n",
       "      <th>3</th>\n",
       "      <td>100.171573</td>\n",
       "      <td>53.137956</td>\n",
       "      <td>34.379439</td>\n",
       "      <td>1.144195e+06</td>\n",
       "      <td>35137.000000</td>\n",
       "      <td>14845.582609</td>\n",
       "      <td>105.972082</td>\n",
       "    </tr>\n",
       "    <tr>\n",
       "      <th>4</th>\n",
       "      <td>101.100975</td>\n",
       "      <td>49.185027</td>\n",
       "      <td>27.684176</td>\n",
       "      <td>9.829450e+05</td>\n",
       "      <td>17001.323529</td>\n",
       "      <td>8582.833482</td>\n",
       "      <td>103.442518</td>\n",
       "    </tr>\n",
       "    <tr>\n",
       "      <th>5</th>\n",
       "      <td>102.742038</td>\n",
       "      <td>32.594316</td>\n",
       "      <td>31.924832</td>\n",
       "      <td>1.120829e+06</td>\n",
       "      <td>24720.176471</td>\n",
       "      <td>5752.159743</td>\n",
       "      <td>101.303010</td>\n",
       "    </tr>\n",
       "    <tr>\n",
       "      <th>6</th>\n",
       "      <td>100.808859</td>\n",
       "      <td>51.003767</td>\n",
       "      <td>34.448700</td>\n",
       "      <td>1.115988e+06</td>\n",
       "      <td>534693.000000</td>\n",
       "      <td>19456.386234</td>\n",
       "      <td>99.048643</td>\n",
       "    </tr>\n",
       "    <tr>\n",
       "      <th>7</th>\n",
       "      <td>100.904670</td>\n",
       "      <td>60.780009</td>\n",
       "      <td>39.363259</td>\n",
       "      <td>1.242261e+06</td>\n",
       "      <td>110751.636364</td>\n",
       "      <td>60472.020730</td>\n",
       "      <td>104.096403</td>\n",
       "    </tr>\n",
       "  </tbody>\n",
       "</table>\n",
       "</div>"
      ],
      "text/plain": [
       "          Ratio_pop (%)  Ratio_prot (kg/personne)  Dispo_prot (kg/personne)  \\\n",
       "Clusters                                                                      \n",
       "1            102.427914                 22.182404                 20.982938   \n",
       "2            101.978910                 28.605668                 22.441011   \n",
       "3            100.171573                 53.137956                 34.379439   \n",
       "4            101.100975                 49.185027                 27.684176   \n",
       "5            102.742038                 32.594316                 31.924832   \n",
       "6            100.808859                 51.003767                 34.448700   \n",
       "7            100.904670                 60.780009                 39.363259   \n",
       "\n",
       "          Dispo_alim_tot (kcal/personne)  Importations (Tonnes)  \\\n",
       "Clusters                                                          \n",
       "1                           8.693502e+05           43481.281250   \n",
       "2                           8.619475e+05            8623.055556   \n",
       "3                           1.144195e+06           35137.000000   \n",
       "4                           9.829450e+05           17001.323529   \n",
       "5                           1.120829e+06           24720.176471   \n",
       "6                           1.115988e+06          534693.000000   \n",
       "7                           1.242261e+06          110751.636364   \n",
       "\n",
       "          PIB par habitant (US $)  Ratio_PIB (%)  \n",
       "Clusters                                          \n",
       "1                     1572.833579     108.446614  \n",
       "2                     2210.074838      95.320082  \n",
       "3                    14845.582609     105.972082  \n",
       "4                     8582.833482     103.442518  \n",
       "5                     5752.159743     101.303010  \n",
       "6                    19456.386234      99.048643  \n",
       "7                    60472.020730     104.096403  "
      ]
     },
     "execution_count": 21,
     "metadata": {},
     "output_type": "execute_result"
    }
   ],
   "source": [
    "clusters_df = pd.DataFrame(clusters, index=echantillon.index, columns=['Clusters'])\n",
    "echantillon = pd.merge(echantillon, clusters_df, left_index = True, right_index = True, how = \"left\")\n",
    "\n",
    "echantillon_grouped = echantillon.groupby('Clusters').mean()\n",
    "echantillon_grouped\n",
    "\n",
    "#Le cluster 7 semble être le meilleur : \n",
    "#Ratio prot très élevé, PIB élever et en augmentation, pays importateurs de viandes de volailles et imports en augmentation "
   ]
  },
  {
   "cell_type": "markdown",
   "metadata": {},
   "source": [
    "## Interprétation des clusters "
   ]
  },
  {
   "cell_type": "markdown",
   "metadata": {},
   "source": [
    "Le Cluster 7 semble être le plus intéressant, puisque celui-ci se compose des pays ayant les plus hauts taux de :<br/>\n",
    "-Ratio prot <br/>\n",
    "-Dispo_prot <br/>\n",
    "-Dispo_alim_tot <br/>\n",
    "-PIB / habitant <br/>\n",
    "Ainsi qu'une augmentation significative du PIB par rapport à n-1"
   ]
  },
  {
   "cell_type": "markdown",
   "metadata": {},
   "source": [
    "## Liste des pays du Cluster 7"
   ]
  },
  {
   "cell_type": "code",
   "execution_count": 22,
   "metadata": {},
   "outputs": [
    {
     "data": {
      "text/html": [
       "<div>\n",
       "<style scoped>\n",
       "    .dataframe tbody tr th:only-of-type {\n",
       "        vertical-align: middle;\n",
       "    }\n",
       "\n",
       "    .dataframe tbody tr th {\n",
       "        vertical-align: top;\n",
       "    }\n",
       "\n",
       "    .dataframe thead th {\n",
       "        text-align: right;\n",
       "    }\n",
       "</style>\n",
       "<table border=\"1\" class=\"dataframe\">\n",
       "  <thead>\n",
       "    <tr style=\"text-align: right;\">\n",
       "      <th></th>\n",
       "      <th>Ratio_pop (%)</th>\n",
       "      <th>Ratio_prot (kg/personne)</th>\n",
       "      <th>Dispo_prot (kg/personne)</th>\n",
       "      <th>Dispo_alim_tot (kcal/personne)</th>\n",
       "      <th>Importations (Tonnes)</th>\n",
       "      <th>PIB par habitant (US $)</th>\n",
       "      <th>Ratio_PIB (%)</th>\n",
       "      <th>Clusters</th>\n",
       "    </tr>\n",
       "    <tr>\n",
       "      <th>Pays</th>\n",
       "      <th></th>\n",
       "      <th></th>\n",
       "      <th></th>\n",
       "      <th></th>\n",
       "      <th></th>\n",
       "      <th></th>\n",
       "      <th></th>\n",
       "      <th></th>\n",
       "    </tr>\n",
       "  </thead>\n",
       "  <tbody>\n",
       "    <tr>\n",
       "      <th>Allemagne</th>\n",
       "      <td>99.911836</td>\n",
       "      <td>60.647007</td>\n",
       "      <td>37.00735</td>\n",
       "      <td>1278595.0</td>\n",
       "      <td>343958.0</td>\n",
       "      <td>46176.177749</td>\n",
       "      <td>105.624874</td>\n",
       "      <td>7</td>\n",
       "    </tr>\n",
       "    <tr>\n",
       "      <th>Australie</th>\n",
       "      <td>101.271150</td>\n",
       "      <td>67.466591</td>\n",
       "      <td>38.78490</td>\n",
       "      <td>1196470.0</td>\n",
       "      <td>6211.0</td>\n",
       "      <td>66301.306788</td>\n",
       "      <td>95.668974</td>\n",
       "      <td>7</td>\n",
       "    </tr>\n",
       "    <tr>\n",
       "      <th>Autriche</th>\n",
       "      <td>100.366257</td>\n",
       "      <td>59.190207</td>\n",
       "      <td>38.76300</td>\n",
       "      <td>1376050.0</td>\n",
       "      <td>40627.0</td>\n",
       "      <td>50137.519579</td>\n",
       "      <td>104.304448</td>\n",
       "      <td>7</td>\n",
       "    </tr>\n",
       "    <tr>\n",
       "      <th>Belgique</th>\n",
       "      <td>100.397830</td>\n",
       "      <td>58.508604</td>\n",
       "      <td>36.27005</td>\n",
       "      <td>1364005.0</td>\n",
       "      <td>151787.0</td>\n",
       "      <td>46713.462219</td>\n",
       "      <td>103.990267</td>\n",
       "      <td>7</td>\n",
       "    </tr>\n",
       "    <tr>\n",
       "      <th>Bermudes</th>\n",
       "      <td>100.000000</td>\n",
       "      <td>66.710934</td>\n",
       "      <td>32.98140</td>\n",
       "      <td>973820.0</td>\n",
       "      <td>2070.0</td>\n",
       "      <td>90329.786048</td>\n",
       "      <td>102.175947</td>\n",
       "      <td>7</td>\n",
       "    </tr>\n",
       "    <tr>\n",
       "      <th>Canada</th>\n",
       "      <td>100.987428</td>\n",
       "      <td>52.065486</td>\n",
       "      <td>38.34690</td>\n",
       "      <td>1277135.0</td>\n",
       "      <td>164218.0</td>\n",
       "      <td>52264.959967</td>\n",
       "      <td>99.988773</td>\n",
       "      <td>7</td>\n",
       "    </tr>\n",
       "    <tr>\n",
       "      <th>Chine - RAS de Macao</th>\n",
       "      <td>101.615799</td>\n",
       "      <td>64.485488</td>\n",
       "      <td>34.58375</td>\n",
       "      <td>1063975.0</td>\n",
       "      <td>12500.0</td>\n",
       "      <td>89525.344880</td>\n",
       "      <td>117.031619</td>\n",
       "      <td>7</td>\n",
       "    </tr>\n",
       "    <tr>\n",
       "      <th>Danemark</th>\n",
       "      <td>100.375134</td>\n",
       "      <td>64.199007</td>\n",
       "      <td>39.69010</td>\n",
       "      <td>1228590.0</td>\n",
       "      <td>58330.0</td>\n",
       "      <td>60942.805627</td>\n",
       "      <td>104.517962</td>\n",
       "      <td>7</td>\n",
       "    </tr>\n",
       "    <tr>\n",
       "      <th>Finlande</th>\n",
       "      <td>100.332840</td>\n",
       "      <td>62.121470</td>\n",
       "      <td>42.90940</td>\n",
       "      <td>1228590.0</td>\n",
       "      <td>2584.0</td>\n",
       "      <td>49659.588178</td>\n",
       "      <td>104.713513</td>\n",
       "      <td>7</td>\n",
       "    </tr>\n",
       "    <tr>\n",
       "      <th>France</th>\n",
       "      <td>100.553670</td>\n",
       "      <td>62.751131</td>\n",
       "      <td>40.33250</td>\n",
       "      <td>1270930.0</td>\n",
       "      <td>310000.0</td>\n",
       "      <td>42493.606628</td>\n",
       "      <td>104.268502</td>\n",
       "      <td>7</td>\n",
       "    </tr>\n",
       "    <tr>\n",
       "      <th>Irlande</th>\n",
       "      <td>101.114510</td>\n",
       "      <td>58.975525</td>\n",
       "      <td>40.11715</td>\n",
       "      <td>1314730.0</td>\n",
       "      <td>56476.0</td>\n",
       "      <td>51130.077752</td>\n",
       "      <td>106.038266</td>\n",
       "      <td>7</td>\n",
       "    </tr>\n",
       "    <tr>\n",
       "      <th>Islande</th>\n",
       "      <td>101.226994</td>\n",
       "      <td>72.508643</td>\n",
       "      <td>48.56690</td>\n",
       "      <td>1234065.0</td>\n",
       "      <td>698.0</td>\n",
       "      <td>47544.160857</td>\n",
       "      <td>108.290327</td>\n",
       "      <td>7</td>\n",
       "    </tr>\n",
       "    <tr>\n",
       "      <th>Israël</th>\n",
       "      <td>101.164312</td>\n",
       "      <td>56.609375</td>\n",
       "      <td>46.72000</td>\n",
       "      <td>1317650.0</td>\n",
       "      <td>0.0</td>\n",
       "      <td>37397.810740</td>\n",
       "      <td>111.906360</td>\n",
       "      <td>7</td>\n",
       "    </tr>\n",
       "    <tr>\n",
       "      <th>Koweït</th>\n",
       "      <td>103.661538</td>\n",
       "      <td>49.533056</td>\n",
       "      <td>39.47475</td>\n",
       "      <td>1277135.0</td>\n",
       "      <td>129835.0</td>\n",
       "      <td>48401.609794</td>\n",
       "      <td>94.428624</td>\n",
       "      <td>7</td>\n",
       "    </tr>\n",
       "    <tr>\n",
       "      <th>Luxembourg</th>\n",
       "      <td>101.145038</td>\n",
       "      <td>63.463569</td>\n",
       "      <td>41.47860</td>\n",
       "      <td>1292100.0</td>\n",
       "      <td>6252.0</td>\n",
       "      <td>113341.237463</td>\n",
       "      <td>106.463605</td>\n",
       "      <td>7</td>\n",
       "    </tr>\n",
       "    <tr>\n",
       "      <th>Norvège</th>\n",
       "      <td>100.981177</td>\n",
       "      <td>59.577350</td>\n",
       "      <td>40.41645</td>\n",
       "      <td>1271295.0</td>\n",
       "      <td>1009.0</td>\n",
       "      <td>103110.441896</td>\n",
       "      <td>101.285916</td>\n",
       "      <td>7</td>\n",
       "    </tr>\n",
       "    <tr>\n",
       "      <th>Pays-Bas</th>\n",
       "      <td>100.269235</td>\n",
       "      <td>67.970572</td>\n",
       "      <td>40.68290</td>\n",
       "      <td>1176030.0</td>\n",
       "      <td>311693.0</td>\n",
       "      <td>51466.478134</td>\n",
       "      <td>104.237760</td>\n",
       "      <td>7</td>\n",
       "    </tr>\n",
       "    <tr>\n",
       "      <th>Royaume-Uni</th>\n",
       "      <td>100.561637</td>\n",
       "      <td>56.496025</td>\n",
       "      <td>37.64610</td>\n",
       "      <td>1250125.0</td>\n",
       "      <td>350658.0</td>\n",
       "      <td>42385.080963</td>\n",
       "      <td>102.297833</td>\n",
       "      <td>7</td>\n",
       "    </tr>\n",
       "    <tr>\n",
       "      <th>Suisse</th>\n",
       "      <td>101.012880</td>\n",
       "      <td>64.334159</td>\n",
       "      <td>33.90485</td>\n",
       "      <td>1238445.0</td>\n",
       "      <td>34342.0</td>\n",
       "      <td>84659.015403</td>\n",
       "      <td>101.782767</td>\n",
       "      <td>7</td>\n",
       "    </tr>\n",
       "    <tr>\n",
       "      <th>Suède</th>\n",
       "      <td>100.630848</td>\n",
       "      <td>65.882025</td>\n",
       "      <td>39.23020</td>\n",
       "      <td>1160700.0</td>\n",
       "      <td>41266.0</td>\n",
       "      <td>60190.029595</td>\n",
       "      <td>105.587040</td>\n",
       "      <td>7</td>\n",
       "    </tr>\n",
       "    <tr>\n",
       "      <th>Émirats arabes unis</th>\n",
       "      <td>101.520747</td>\n",
       "      <td>39.900488</td>\n",
       "      <td>38.14615</td>\n",
       "      <td>1195375.0</td>\n",
       "      <td>355880.0</td>\n",
       "      <td>43315.138419</td>\n",
       "      <td>102.918838</td>\n",
       "      <td>7</td>\n",
       "    </tr>\n",
       "    <tr>\n",
       "      <th>États-Unis d'Amérique</th>\n",
       "      <td>100.801877</td>\n",
       "      <td>63.763480</td>\n",
       "      <td>39.93830</td>\n",
       "      <td>1343930.0</td>\n",
       "      <td>56142.0</td>\n",
       "      <td>52898.817379</td>\n",
       "      <td>102.598650</td>\n",
       "      <td>7</td>\n",
       "    </tr>\n",
       "  </tbody>\n",
       "</table>\n",
       "</div>"
      ],
      "text/plain": [
       "                       Ratio_pop (%)  Ratio_prot (kg/personne)  \\\n",
       "Pays                                                             \n",
       "Allemagne                  99.911836                 60.647007   \n",
       "Australie                 101.271150                 67.466591   \n",
       "Autriche                  100.366257                 59.190207   \n",
       "Belgique                  100.397830                 58.508604   \n",
       "Bermudes                  100.000000                 66.710934   \n",
       "Canada                    100.987428                 52.065486   \n",
       "Chine - RAS de Macao      101.615799                 64.485488   \n",
       "Danemark                  100.375134                 64.199007   \n",
       "Finlande                  100.332840                 62.121470   \n",
       "France                    100.553670                 62.751131   \n",
       "Irlande                   101.114510                 58.975525   \n",
       "Islande                   101.226994                 72.508643   \n",
       "Israël                    101.164312                 56.609375   \n",
       "Koweït                    103.661538                 49.533056   \n",
       "Luxembourg                101.145038                 63.463569   \n",
       "Norvège                   100.981177                 59.577350   \n",
       "Pays-Bas                  100.269235                 67.970572   \n",
       "Royaume-Uni               100.561637                 56.496025   \n",
       "Suisse                    101.012880                 64.334159   \n",
       "Suède                     100.630848                 65.882025   \n",
       "Émirats arabes unis       101.520747                 39.900488   \n",
       "États-Unis d'Amérique     100.801877                 63.763480   \n",
       "\n",
       "                       Dispo_prot (kg/personne)  \\\n",
       "Pays                                              \n",
       "Allemagne                              37.00735   \n",
       "Australie                              38.78490   \n",
       "Autriche                               38.76300   \n",
       "Belgique                               36.27005   \n",
       "Bermudes                               32.98140   \n",
       "Canada                                 38.34690   \n",
       "Chine - RAS de Macao                   34.58375   \n",
       "Danemark                               39.69010   \n",
       "Finlande                               42.90940   \n",
       "France                                 40.33250   \n",
       "Irlande                                40.11715   \n",
       "Islande                                48.56690   \n",
       "Israël                                 46.72000   \n",
       "Koweït                                 39.47475   \n",
       "Luxembourg                             41.47860   \n",
       "Norvège                                40.41645   \n",
       "Pays-Bas                               40.68290   \n",
       "Royaume-Uni                            37.64610   \n",
       "Suisse                                 33.90485   \n",
       "Suède                                  39.23020   \n",
       "Émirats arabes unis                    38.14615   \n",
       "États-Unis d'Amérique                  39.93830   \n",
       "\n",
       "                       Dispo_alim_tot (kcal/personne)  Importations (Tonnes)  \\\n",
       "Pays                                                                           \n",
       "Allemagne                                   1278595.0               343958.0   \n",
       "Australie                                   1196470.0                 6211.0   \n",
       "Autriche                                    1376050.0                40627.0   \n",
       "Belgique                                    1364005.0               151787.0   \n",
       "Bermudes                                     973820.0                 2070.0   \n",
       "Canada                                      1277135.0               164218.0   \n",
       "Chine - RAS de Macao                        1063975.0                12500.0   \n",
       "Danemark                                    1228590.0                58330.0   \n",
       "Finlande                                    1228590.0                 2584.0   \n",
       "France                                      1270930.0               310000.0   \n",
       "Irlande                                     1314730.0                56476.0   \n",
       "Islande                                     1234065.0                  698.0   \n",
       "Israël                                      1317650.0                    0.0   \n",
       "Koweït                                      1277135.0               129835.0   \n",
       "Luxembourg                                  1292100.0                 6252.0   \n",
       "Norvège                                     1271295.0                 1009.0   \n",
       "Pays-Bas                                    1176030.0               311693.0   \n",
       "Royaume-Uni                                 1250125.0               350658.0   \n",
       "Suisse                                      1238445.0                34342.0   \n",
       "Suède                                       1160700.0                41266.0   \n",
       "Émirats arabes unis                         1195375.0               355880.0   \n",
       "États-Unis d'Amérique                       1343930.0                56142.0   \n",
       "\n",
       "                       PIB par habitant (US $)  Ratio_PIB (%)  Clusters  \n",
       "Pays                                                                     \n",
       "Allemagne                         46176.177749     105.624874         7  \n",
       "Australie                         66301.306788      95.668974         7  \n",
       "Autriche                          50137.519579     104.304448         7  \n",
       "Belgique                          46713.462219     103.990267         7  \n",
       "Bermudes                          90329.786048     102.175947         7  \n",
       "Canada                            52264.959967      99.988773         7  \n",
       "Chine - RAS de Macao              89525.344880     117.031619         7  \n",
       "Danemark                          60942.805627     104.517962         7  \n",
       "Finlande                          49659.588178     104.713513         7  \n",
       "France                            42493.606628     104.268502         7  \n",
       "Irlande                           51130.077752     106.038266         7  \n",
       "Islande                           47544.160857     108.290327         7  \n",
       "Israël                            37397.810740     111.906360         7  \n",
       "Koweït                            48401.609794      94.428624         7  \n",
       "Luxembourg                       113341.237463     106.463605         7  \n",
       "Norvège                          103110.441896     101.285916         7  \n",
       "Pays-Bas                          51466.478134     104.237760         7  \n",
       "Royaume-Uni                       42385.080963     102.297833         7  \n",
       "Suisse                            84659.015403     101.782767         7  \n",
       "Suède                             60190.029595     105.587040         7  \n",
       "Émirats arabes unis               43315.138419     102.918838         7  \n",
       "États-Unis d'Amérique             52898.817379     102.598650         7  "
      ]
     },
     "execution_count": 22,
     "metadata": {},
     "output_type": "execute_result"
    }
   ],
   "source": [
    "country_to_keep = echantillon[echantillon.Clusters == 7]\n",
    "country_to_keep"
   ]
  },
  {
   "cell_type": "markdown",
   "metadata": {},
   "source": [
    "# ACP"
   ]
  },
  {
   "cell_type": "markdown",
   "metadata": {},
   "source": [
    "## Composantes principales"
   ]
  },
  {
   "cell_type": "code",
   "execution_count": 23,
   "metadata": {},
   "outputs": [],
   "source": [
    "from functions import *"
   ]
  },
  {
   "cell_type": "code",
   "execution_count": 24,
   "metadata": {
    "scrolled": false
   },
   "outputs": [],
   "source": [
    "#Choix du nombre de composantes à calculer : \n",
    "n_comp = 6\n",
    "\n",
    "# Selection des colonnes à prendre en compte dans l'ACP : \n",
    "data_pca = echantillon[[\"Ratio_pop (%)\", \"Ratio_prot (kg/personne)\", \n",
    "                        \"Dispo_prot (kg/personne)\", \"Dispo_alim_tot (kcal/personne)\", \n",
    "                        \"Importations (Tonnes)\", \"PIB par habitant (US $)\", \n",
    "                        \"Ratio_PIB (%)\"]]\n",
    "\n",
    "#Import des clusters : \n",
    "clusters = [echantillon.loc[pays, \"Clusters\"] for pays in echantillon.index]\n",
    "\n",
    "#Préparation des données pour l'ACP :\n",
    "data_pca = data_pca.fillna(data_pca.mean()) #On remplace les valeurs inconnues par la moyenne de la variable\n",
    "\n",
    "X = data_pca.values #On ne prend que les valeurs\n",
    "\n",
    "names = data_pca.index\n",
    "\n",
    "features = data_pca.columns\n",
    "\n",
    "#Centrage et réduction : \n",
    "std_scale = preprocessing.StandardScaler().fit(X) #On centre\n",
    "X_scaled = std_scale.transform(X) #On réduit\n",
    "\n",
    "#Calcul des composantes principales \n",
    "pca = decomposition.PCA(n_components = n_comp)\n",
    "pca = pca.fit(X_scaled)"
   ]
  },
  {
   "cell_type": "markdown",
   "metadata": {},
   "source": [
    "## Eboulis des valeurs propres "
   ]
  },
  {
   "cell_type": "code",
   "execution_count": 51,
   "metadata": {},
   "outputs": [
    {
     "data": {
      "image/png": "[encoded data removed]",
      "text/plain": [
       "<Figure size 432x288 with 1 Axes>"
      ]
     },
     "metadata": {
      "needs_background": "light"
     },
     "output_type": "display_data"
    }
   ],
   "source": [
    "display_scree_plot(pca)"
   ]
  },
  {
   "cell_type": "markdown",
   "metadata": {},
   "source": [
    "L'éboulis des valeurs propres nous apprend que la composante principale 1 (PC1), explique 47,9% des informations. <br/>\n",
    "La composante principale 2 (PC2) explique 15,8% des informations. <br/>\n",
    "Il nous faut ici 6 composantes principales pour atteindre un nombre proche des 100% <br/><br/>\n",
    "Nous nous concentrerons dans cette interprétation uniquement à PC1.\n",
    "\n",
    "Notons aussi qu'un plan factoriel (F) correspond à la projection d'une composante principale (PC) sur un axe. <br/>\n",
    "F1 correspond donc à la projection de PC1, F2 à la projection de PC2, ect..."
   ]
  },
  {
   "cell_type": "markdown",
   "metadata": {},
   "source": [
    "## Cercle des corrélations"
   ]
  },
  {
   "cell_type": "code",
   "execution_count": 26,
   "metadata": {},
   "outputs": [
    {
     "data": {
      "image/png": "[encoded data removed]",
      "text/plain": [
       "<Figure size 504x432 with 1 Axes>"
      ]
     },
     "metadata": {
      "needs_background": "light"
     },
     "output_type": "display_data"
    }
   ],
   "source": [
    "pcs = pca.components_\n",
    "display_circles(pcs, n_comp, pca, [(0,1)], labels = np.array(features))\n",
    "plt.show()"
   ]
  },
  {
   "cell_type": "markdown",
   "metadata": {},
   "source": [
    "Le cercle des corrélation n'est pas très lisible dans la partie droite <br/>\n",
    "Ajoutons un zoom : "
   ]
  },
  {
   "cell_type": "code",
   "execution_count": 27,
   "metadata": {},
   "outputs": [
    {
     "data": {
      "image/png": "[encoded data removed]",
      "text/plain": [
       "<Figure size 504x432 with 1 Axes>"
      ]
     },
     "metadata": {
      "needs_background": "light"
     },
     "output_type": "display_data"
    }
   ],
   "source": [
    "display_circles(pcs, n_comp, pca, [(0,1)], labels = np.array(features), \n",
    "                lims=[0.3, 0.6, -0.05, 0.17])"
   ]
  },
  {
   "cell_type": "markdown",
   "metadata": {},
   "source": [
    "### Poids des variables :"
   ]
  },
  {
   "cell_type": "code",
   "execution_count": 28,
   "metadata": {},
   "outputs": [
    {
     "data": {
      "text/html": [
       "<div>\n",
       "<style scoped>\n",
       "    .dataframe tbody tr th:only-of-type {\n",
       "        vertical-align: middle;\n",
       "    }\n",
       "\n",
       "    .dataframe tbody tr th {\n",
       "        vertical-align: top;\n",
       "    }\n",
       "\n",
       "    .dataframe thead th {\n",
       "        text-align: right;\n",
       "    }\n",
       "</style>\n",
       "<table border=\"1\" class=\"dataframe\">\n",
       "  <thead>\n",
       "    <tr style=\"text-align: right;\">\n",
       "      <th></th>\n",
       "      <th>Ratio_pop (%)</th>\n",
       "      <th>Ratio_prot (kg/personne)</th>\n",
       "      <th>Dispo_prot (kg/personne)</th>\n",
       "      <th>Dispo_alim_tot (kcal/personne)</th>\n",
       "      <th>Importations (Tonnes)</th>\n",
       "      <th>PIB par habitant (US $)</th>\n",
       "      <th>Ratio_PIB (%)</th>\n",
       "    </tr>\n",
       "  </thead>\n",
       "  <tbody>\n",
       "    <tr>\n",
       "      <th>F1</th>\n",
       "      <td>-0.329642</td>\n",
       "      <td>0.459767</td>\n",
       "      <td>0.501907</td>\n",
       "      <td>0.478853</td>\n",
       "      <td>0.170582</td>\n",
       "      <td>0.410533</td>\n",
       "      <td>0.033221</td>\n",
       "    </tr>\n",
       "    <tr>\n",
       "      <th>F2</th>\n",
       "      <td>0.330763</td>\n",
       "      <td>-0.011468</td>\n",
       "      <td>0.001920</td>\n",
       "      <td>-0.023593</td>\n",
       "      <td>0.514805</td>\n",
       "      <td>0.152462</td>\n",
       "      <td>-0.775652</td>\n",
       "    </tr>\n",
       "  </tbody>\n",
       "</table>\n",
       "</div>"
      ],
      "text/plain": [
       "    Ratio_pop (%)  Ratio_prot (kg/personne)  Dispo_prot (kg/personne)  \\\n",
       "F1      -0.329642                  0.459767                  0.501907   \n",
       "F2       0.330763                 -0.011468                  0.001920   \n",
       "\n",
       "    Dispo_alim_tot (kcal/personne)  Importations (Tonnes)  \\\n",
       "F1                        0.478853               0.170582   \n",
       "F2                       -0.023593               0.514805   \n",
       "\n",
       "    PIB par habitant (US $)  Ratio_PIB (%)  \n",
       "F1                 0.410533       0.033221  \n",
       "F2                 0.152462      -0.775652  "
      ]
     },
     "execution_count": 28,
     "metadata": {},
     "output_type": "execute_result"
    }
   ],
   "source": [
    "#pcs = pca.components_\n",
    "poids_des_variables = pd.DataFrame(pcs, index=[[\"F1\", \"F2\", \"F3\", \"F4\", \"F5\", \"F6\"]], \n",
    "                                   columns = features)\n",
    "poids_des_variables.loc[[\"F1\", \"F2\"]]"
   ]
  },
  {
   "cell_type": "markdown",
   "metadata": {},
   "source": [
    "### Interprétation de PC1"
   ]
  },
  {
   "cell_type": "markdown",
   "metadata": {},
   "source": [
    "On peut voir sur PC1 que les variables ayant le plus de poids dans l'inertie sont : <br/>\n",
    "<li><ol>La disponibilité en protéines</ol> \n",
    "    <ol>La disponinibilité alimentaire totale</ol> \n",
    "    <ol>Le ratio de protéines animales / Protéines totales</ol> \n",
    "    <ol>Le PIB par Habitant</ol>\n",
    "    <ol>Le ratio de population (en négatif)</ol></li>"
   ]
  },
  {
   "cell_type": "markdown",
   "metadata": {},
   "source": [
    "On peut donc conclure que la composante principale PC1 correspond au niveau de richesses du pays"
   ]
  },
  {
   "cell_type": "markdown",
   "metadata": {},
   "source": [
    "## Projection des individus "
   ]
  },
  {
   "cell_type": "code",
   "execution_count": 29,
   "metadata": {},
   "outputs": [
    {
     "data": {
      "image/png": "[encoded data removed]",
      "text/plain": [
       "<Figure size 504x432 with 1 Axes>"
      ]
     },
     "metadata": {
      "needs_background": "light"
     },
     "output_type": "display_data"
    }
   ],
   "source": [
    "X_projected = pca.transform(X_scaled)\n",
    "display_factorial_planes(X_projected, n_comp, pca, [(0,1)], illustrative_var = clusters)"
   ]
  },
  {
   "cell_type": "markdown",
   "metadata": {},
   "source": [
    "<p> A l'exception du cluster 6, les pays sont regroupés correctement par clusters sur F1. <br/>\n",
    "Si certains semblent être confondus avec les autres, c'est F2 qui nous permet de voir la différence entre ces derniers. </p>\n",
    "\n",
    "<p> Dans la partie du dendogramme, nous avons vu que le cluster 7 était celui qui nous intéressait le plus, voyons donc comment sont répartis les pays de ce cluster, et à quoi est-ce qu'ils correspondent, après l'ACP.</p>\n",
    "\n",
    "<p> Le cluster 7 représente les pays le plus à droite sur F1, avec donc une forte valeur. <br/>\n",
    "    Comme nous l'avons vu précédement, F1 représente le niveau de richesse du pays ; <br/>\n",
    "    Les pays du cluster 7 correspondent donc aux pays les plus riches.</p>"
   ]
  },
  {
   "cell_type": "markdown",
   "metadata": {},
   "source": [
    "### Cluster 6, en détails : "
   ]
  },
  {
   "cell_type": "code",
   "execution_count": 30,
   "metadata": {},
   "outputs": [
    {
     "data": {
      "text/html": [
       "<div>\n",
       "<style scoped>\n",
       "    .dataframe tbody tr th:only-of-type {\n",
       "        vertical-align: middle;\n",
       "    }\n",
       "\n",
       "    .dataframe tbody tr th {\n",
       "        vertical-align: top;\n",
       "    }\n",
       "\n",
       "    .dataframe thead th {\n",
       "        text-align: right;\n",
       "    }\n",
       "</style>\n",
       "<table border=\"1\" class=\"dataframe\">\n",
       "  <thead>\n",
       "    <tr style=\"text-align: right;\">\n",
       "      <th></th>\n",
       "      <th>Ratio_pop (%)</th>\n",
       "      <th>Ratio_prot (kg/personne)</th>\n",
       "      <th>Dispo_prot (kg/personne)</th>\n",
       "      <th>Dispo_alim_tot (kcal/personne)</th>\n",
       "      <th>Importations (Tonnes)</th>\n",
       "      <th>PIB par habitant (US $)</th>\n",
       "      <th>Ratio_PIB (%)</th>\n",
       "      <th>Clusters</th>\n",
       "    </tr>\n",
       "    <tr>\n",
       "      <th>Pays</th>\n",
       "      <th></th>\n",
       "      <th></th>\n",
       "      <th></th>\n",
       "      <th></th>\n",
       "      <th></th>\n",
       "      <th></th>\n",
       "      <th></th>\n",
       "      <th></th>\n",
       "    </tr>\n",
       "  </thead>\n",
       "  <tbody>\n",
       "    <tr>\n",
       "      <th>Afrique du Sud</th>\n",
       "      <td>100.744474</td>\n",
       "      <td>42.646197</td>\n",
       "      <td>31.14545</td>\n",
       "      <td>1102300.0</td>\n",
       "      <td>319687.0</td>\n",
       "      <td>6818.736993</td>\n",
       "      <td>91.181948</td>\n",
       "      <td>6</td>\n",
       "    </tr>\n",
       "    <tr>\n",
       "      <th>Arabie saoudite</th>\n",
       "      <td>101.912472</td>\n",
       "      <td>43.585544</td>\n",
       "      <td>33.43035</td>\n",
       "      <td>1188075.0</td>\n",
       "      <td>830559.0</td>\n",
       "      <td>24934.386142</td>\n",
       "      <td>98.542832</td>\n",
       "      <td>6</td>\n",
       "    </tr>\n",
       "    <tr>\n",
       "      <th>Chine - RAS de Hong-Kong</th>\n",
       "      <td>100.783436</td>\n",
       "      <td>73.138607</td>\n",
       "      <td>47.11055</td>\n",
       "      <td>1199390.0</td>\n",
       "      <td>723484.0</td>\n",
       "      <td>38566.712121</td>\n",
       "      <td>104.356553</td>\n",
       "      <td>6</td>\n",
       "    </tr>\n",
       "    <tr>\n",
       "      <th>Chine, continentale</th>\n",
       "      <td>100.617400</td>\n",
       "      <td>40.050994</td>\n",
       "      <td>35.78825</td>\n",
       "      <td>1135880.0</td>\n",
       "      <td>540156.0</td>\n",
       "      <td>6967.799286</td>\n",
       "      <td>111.805352</td>\n",
       "      <td>6</td>\n",
       "    </tr>\n",
       "    <tr>\n",
       "      <th>Fédération de Russie</th>\n",
       "      <td>99.765314</td>\n",
       "      <td>54.644490</td>\n",
       "      <td>37.52565</td>\n",
       "      <td>1226400.0</td>\n",
       "      <td>502920.0</td>\n",
       "      <td>15533.899955</td>\n",
       "      <td>102.660542</td>\n",
       "      <td>6</td>\n",
       "    </tr>\n",
       "    <tr>\n",
       "      <th>Japon</th>\n",
       "      <td>99.916699</td>\n",
       "      <td>55.276669</td>\n",
       "      <td>31.99225</td>\n",
       "      <td>994990.0</td>\n",
       "      <td>414326.0</td>\n",
       "      <td>40180.809978</td>\n",
       "      <td>83.187149</td>\n",
       "      <td>6</td>\n",
       "    </tr>\n",
       "    <tr>\n",
       "      <th>Mexique</th>\n",
       "      <td>101.228827</td>\n",
       "      <td>46.426125</td>\n",
       "      <td>31.96670</td>\n",
       "      <td>1119820.0</td>\n",
       "      <td>667549.0</td>\n",
       "      <td>10400.569944</td>\n",
       "      <td>104.628237</td>\n",
       "      <td>6</td>\n",
       "    </tr>\n",
       "    <tr>\n",
       "      <th>Venezuela (République bolivarienne du)</th>\n",
       "      <td>101.502253</td>\n",
       "      <td>52.261513</td>\n",
       "      <td>26.63040</td>\n",
       "      <td>961045.0</td>\n",
       "      <td>278863.0</td>\n",
       "      <td>12248.175454</td>\n",
       "      <td>96.026525</td>\n",
       "      <td>6</td>\n",
       "    </tr>\n",
       "  </tbody>\n",
       "</table>\n",
       "</div>"
      ],
      "text/plain": [
       "                                        Ratio_pop (%)  \\\n",
       "Pays                                                    \n",
       "Afrique du Sud                             100.744474   \n",
       "Arabie saoudite                            101.912472   \n",
       "Chine - RAS de Hong-Kong                   100.783436   \n",
       "Chine, continentale                        100.617400   \n",
       "Fédération de Russie                        99.765314   \n",
       "Japon                                       99.916699   \n",
       "Mexique                                    101.228827   \n",
       "Venezuela (République bolivarienne du)     101.502253   \n",
       "\n",
       "                                        Ratio_prot (kg/personne)  \\\n",
       "Pays                                                               \n",
       "Afrique du Sud                                         42.646197   \n",
       "Arabie saoudite                                        43.585544   \n",
       "Chine - RAS de Hong-Kong                               73.138607   \n",
       "Chine, continentale                                    40.050994   \n",
       "Fédération de Russie                                   54.644490   \n",
       "Japon                                                  55.276669   \n",
       "Mexique                                                46.426125   \n",
       "Venezuela (République bolivarienne du)                 52.261513   \n",
       "\n",
       "                                        Dispo_prot (kg/personne)  \\\n",
       "Pays                                                               \n",
       "Afrique du Sud                                          31.14545   \n",
       "Arabie saoudite                                         33.43035   \n",
       "Chine - RAS de Hong-Kong                                47.11055   \n",
       "Chine, continentale                                     35.78825   \n",
       "Fédération de Russie                                    37.52565   \n",
       "Japon                                                   31.99225   \n",
       "Mexique                                                 31.96670   \n",
       "Venezuela (République bolivarienne du)                  26.63040   \n",
       "\n",
       "                                        Dispo_alim_tot (kcal/personne)  \\\n",
       "Pays                                                                     \n",
       "Afrique du Sud                                               1102300.0   \n",
       "Arabie saoudite                                              1188075.0   \n",
       "Chine - RAS de Hong-Kong                                     1199390.0   \n",
       "Chine, continentale                                          1135880.0   \n",
       "Fédération de Russie                                         1226400.0   \n",
       "Japon                                                         994990.0   \n",
       "Mexique                                                      1119820.0   \n",
       "Venezuela (République bolivarienne du)                        961045.0   \n",
       "\n",
       "                                        Importations (Tonnes)  \\\n",
       "Pays                                                            \n",
       "Afrique du Sud                                       319687.0   \n",
       "Arabie saoudite                                      830559.0   \n",
       "Chine - RAS de Hong-Kong                             723484.0   \n",
       "Chine, continentale                                  540156.0   \n",
       "Fédération de Russie                                 502920.0   \n",
       "Japon                                                414326.0   \n",
       "Mexique                                              667549.0   \n",
       "Venezuela (République bolivarienne du)               278863.0   \n",
       "\n",
       "                                        PIB par habitant (US $)  \\\n",
       "Pays                                                              \n",
       "Afrique du Sud                                      6818.736993   \n",
       "Arabie saoudite                                    24934.386142   \n",
       "Chine - RAS de Hong-Kong                           38566.712121   \n",
       "Chine, continentale                                 6967.799286   \n",
       "Fédération de Russie                               15533.899955   \n",
       "Japon                                              40180.809978   \n",
       "Mexique                                            10400.569944   \n",
       "Venezuela (République bolivarienne du)             12248.175454   \n",
       "\n",
       "                                        Ratio_PIB (%)  Clusters  \n",
       "Pays                                                             \n",
       "Afrique du Sud                              91.181948         6  \n",
       "Arabie saoudite                             98.542832         6  \n",
       "Chine - RAS de Hong-Kong                   104.356553         6  \n",
       "Chine, continentale                        111.805352         6  \n",
       "Fédération de Russie                       102.660542         6  \n",
       "Japon                                       83.187149         6  \n",
       "Mexique                                    104.628237         6  \n",
       "Venezuela (République bolivarienne du)      96.026525         6  "
      ]
     },
     "execution_count": 30,
     "metadata": {},
     "output_type": "execute_result"
    }
   ],
   "source": [
    "cluster_6 = echantillon[echantillon.Clusters == 6]\n",
    "cluster_6\n",
    "\n",
    "#Qu'est-ce qui différentie le cluster 6 du 7 ; \n",
    "#Pourquoi ne pas prendre les deux pays sortant du lot dans le cluster 6, et quels sont-ils ?"
   ]
  },
  {
   "cell_type": "markdown",
   "metadata": {},
   "source": [
    "On peut voir sur le Dendrogramme que le cluster 6 et 7 sont très proches, ils ne se différencient qu'au dernier embranchement. <br/>\n",
    "Lorsque l'on regarde la moyenne des variables, on peut aussi voir que les parties Dispo_prot, dispo_alim_tot et ratio_prot sont très proches.\n",
    "\n",
    "Alors, qu'est-ce qui différencie ces deux clusters ? <br/>\n",
    "On remarque que les importations sont nettements plus importantes dans le cluster 6 que dans le 7, à l'inverse le PIB est nettement inférieur dans le 6 que dans le 7. <br/>\n",
    "Ce sont donc ces deux points qui séparent les clusters.\n",
    "\n",
    "Comme nous avons pu le voir dans la projection des individus sur le plan factoriel, deux pays du cluster 6 semblent sortir du lot, et avoir une valeur élevée sur F1. <br/>\n",
    "Il va donc falloir voir ces deux pays en détails pour voir s'ils sont intéressants, et si nous les ajoutons dans la liste de nos pays. (Ne pas oublier que le Mexique est dans le cluster 6, et vendre du poulet au Mexique n'est surement pas une mauvaise idée !)"
   ]
  },
  {
   "cell_type": "code",
   "execution_count": 50,
   "metadata": {},
   "outputs": [
    {
     "data": {
      "image/png": "[encoded data removed]",
      "text/plain": [
       "<Figure size 504x432 with 1 Axes>"
      ]
     },
     "metadata": {
      "needs_background": "light"
     },
     "output_type": "display_data"
    }
   ],
   "source": [
    "display_factorial_planes(X_projected, n_comp, pca, [(0,1)], labels=names, illustrative_var = clusters)"
   ]
  },
  {
   "cell_type": "markdown",
   "metadata": {},
   "source": [
    "# Test D'adéquation "
   ]
  },
  {
   "cell_type": "code",
   "execution_count": 31,
   "metadata": {},
   "outputs": [],
   "source": [
    "from scipy.stats import ks_2samp"
   ]
  },
  {
   "cell_type": "markdown",
   "metadata": {},
   "source": [
    "H0 : La variable suit une loi normale <br/> H1 : La variable ne suit pas une loi normale"
   ]
  },
  {
   "cell_type": "markdown",
   "metadata": {},
   "source": [
    "On rejettera H0 si p_valeur < Alpha"
   ]
  },
  {
   "cell_type": "code",
   "execution_count": 32,
   "metadata": {},
   "outputs": [],
   "source": [
    "alpha = 0.05"
   ]
  },
  {
   "cell_type": "markdown",
   "metadata": {},
   "source": [
    "## Ratio pop :"
   ]
  },
  {
   "cell_type": "code",
   "execution_count": 33,
   "metadata": {},
   "outputs": [
    {
     "name": "stdout",
     "output_type": "stream",
     "text": [
      "La variable suit une loi normale\n"
     ]
    }
   ],
   "source": [
    "np.random.seed(1)\n",
    "stats, pvalue = ks_2samp(echantillon[\"Ratio_pop (%)\"],list(np.random.normal(np.mean(echantillon[\"Ratio_pop (%)\"]), np.std(echantillon[\"Ratio_pop (%)\"]), 1000)))\n",
    "\n",
    "if pvalue < alpha :\n",
    "    print(\"La variable ne suit pas une loi normale\")\n",
    "else : \n",
    "    print(\"La variable suit une loi normale\")"
   ]
  },
  {
   "cell_type": "markdown",
   "metadata": {},
   "source": [
    "## Ratio prot :"
   ]
  },
  {
   "cell_type": "code",
   "execution_count": 34,
   "metadata": {},
   "outputs": [
    {
     "name": "stdout",
     "output_type": "stream",
     "text": [
      "La variable suit une loi normale\n"
     ]
    }
   ],
   "source": [
    "np.random.seed(1)\n",
    "stats, pvalue = ks_2samp(echantillon[\"Ratio_prot (kg/personne)\"],list(np.random.normal(np.mean(echantillon[\"Ratio_prot (kg/personne)\"]), np.std(echantillon[\"Ratio_prot (kg/personne)\"]), 1000)))\n",
    "\n",
    "if pvalue < alpha :\n",
    "    print(\"La variable ne suit pas une loi normale\")\n",
    "else : \n",
    "    print(\"La variable suit une loi normale\")"
   ]
  },
  {
   "cell_type": "markdown",
   "metadata": {},
   "source": [
    "## Dispo_prot : "
   ]
  },
  {
   "cell_type": "code",
   "execution_count": 35,
   "metadata": {},
   "outputs": [
    {
     "name": "stdout",
     "output_type": "stream",
     "text": [
      "La variable suit une loi normale\n"
     ]
    }
   ],
   "source": [
    "np.random.seed(1)\n",
    "stats, pvalue = ks_2samp(echantillon[\"Dispo_prot (kg/personne)\"],list(np.random.normal(np.mean(echantillon[\"Dispo_prot (kg/personne)\"]), np.std(echantillon[\"Dispo_prot (kg/personne)\"]), 1000)))\n",
    "\n",
    "if pvalue < alpha :\n",
    "    print(\"La variable ne suit pas une loi normale\")\n",
    "else : \n",
    "    print(\"La variable suit une loi normale\")"
   ]
  },
  {
   "cell_type": "markdown",
   "metadata": {},
   "source": [
    "## Dispo_alim_tot : "
   ]
  },
  {
   "cell_type": "code",
   "execution_count": 36,
   "metadata": {},
   "outputs": [
    {
     "name": "stdout",
     "output_type": "stream",
     "text": [
      "La variable suit une loi normale\n"
     ]
    }
   ],
   "source": [
    "np.random.seed(1)\n",
    "stats, pvalue = ks_2samp(echantillon[\"Dispo_alim_tot (kcal/personne)\"],list(np.random.normal(np.mean(echantillon[\"Dispo_alim_tot (kcal/personne)\"]), np.std(echantillon[\"Dispo_alim_tot (kcal/personne)\"]), 1000)))\n",
    "\n",
    "if pvalue < alpha :\n",
    "    print(\"La variable ne suit pas une loi normale\")\n",
    "else : \n",
    "    print(\"La variable suit une loi normale\")"
   ]
  },
  {
   "cell_type": "markdown",
   "metadata": {},
   "source": [
    "## PIB par habitant : "
   ]
  },
  {
   "cell_type": "code",
   "execution_count": 37,
   "metadata": {},
   "outputs": [
    {
     "name": "stdout",
     "output_type": "stream",
     "text": [
      "La variable ne suit pas une loi normale\n"
     ]
    }
   ],
   "source": [
    "np.random.seed(1)\n",
    "stats, pvalue = ks_2samp(echantillon[\"PIB par habitant (US $)\"],list(np.random.normal(np.mean(echantillon[\"PIB par habitant (US $)\"]), np.std(echantillon[\"PIB par habitant (US $)\"]), 1000)))\n",
    "\n",
    "if pvalue < alpha :\n",
    "    print(\"La variable ne suit pas une loi normale\")\n",
    "else : \n",
    "    print(\"La variable suit une loi normale\")"
   ]
  },
  {
   "cell_type": "markdown",
   "metadata": {},
   "source": [
    "## Ratio_PIB : "
   ]
  },
  {
   "cell_type": "code",
   "execution_count": 38,
   "metadata": {},
   "outputs": [
    {
     "name": "stdout",
     "output_type": "stream",
     "text": [
      "La variable suit une loi normale\n"
     ]
    }
   ],
   "source": [
    "np.random.seed(1)\n",
    "stats, pvalue = ks_2samp(echantillon[\"Ratio_PIB (%)\"],list(np.random.normal(np.mean(echantillon[\"Ratio_PIB (%)\"]), np.std(echantillon[\"Ratio_PIB (%)\"]), 1000)))\n",
    "\n",
    "if pvalue < alpha :\n",
    "    print(\"La variable ne suit pas une loi normale\")\n",
    "else : \n",
    "    print(\"La variable suit une loi normale\")"
   ]
  },
  {
   "cell_type": "markdown",
   "metadata": {},
   "source": [
    "## Import_poulet"
   ]
  },
  {
   "cell_type": "code",
   "execution_count": 39,
   "metadata": {},
   "outputs": [
    {
     "name": "stdout",
     "output_type": "stream",
     "text": [
      "La variable ne suit pas une loi normale\n"
     ]
    }
   ],
   "source": [
    "np.random.seed(1)\n",
    "stats, pvalue = ks_2samp(echantillon[\"Importations (Tonnes)\"],list(np.random.normal(np.mean(echantillon[\"Importations (Tonnes)\"]), np.std(echantillon[\"Importations (Tonnes)\"]), 1000)))\n",
    "\n",
    "if pvalue < alpha :\n",
    "    print(\"La variable ne suit pas une loi normale\")\n",
    "else : \n",
    "    print(\"La variable suit une loi normale\")"
   ]
  },
  {
   "cell_type": "markdown",
   "metadata": {},
   "source": [
    "# Test de comparaison"
   ]
  },
  {
   "cell_type": "code",
   "execution_count": 40,
   "metadata": {},
   "outputs": [],
   "source": [
    "import scipy"
   ]
  },
  {
   "cell_type": "markdown",
   "metadata": {},
   "source": [
    "H0 : Les deux échantillon sont identiques (moyennes et variances) <br/> H1 : Les deux échantillons diffèrent"
   ]
  },
  {
   "cell_type": "code",
   "execution_count": 41,
   "metadata": {},
   "outputs": [],
   "source": [
    "alpha = 0.01"
   ]
  },
  {
   "cell_type": "markdown",
   "metadata": {},
   "source": [
    "On rejette H0 si p_valeur < alpha"
   ]
  },
  {
   "cell_type": "markdown",
   "metadata": {},
   "source": [
    "## Préparation des datasets :"
   ]
  },
  {
   "cell_type": "code",
   "execution_count": 42,
   "metadata": {},
   "outputs": [],
   "source": [
    "X = country_to_keep[country_to_keep.Clusters == 5][\"Ratio_prot (kg/personne)\"]\n",
    "Y = country_to_keep[country_to_keep.Clusters == 7][\"Ratio_prot (kg/personne)\"]"
   ]
  },
  {
   "cell_type": "markdown",
   "metadata": {},
   "source": [
    "## Egalité des Variances : "
   ]
  },
  {
   "cell_type": "code",
   "execution_count": 43,
   "metadata": {},
   "outputs": [
    {
     "name": "stdout",
     "output_type": "stream",
     "text": [
      "Les variances ne sont pas les mêmes, les variables ne suivent pas la même loi.\n"
     ]
    }
   ],
   "source": [
    "stats, pvaleur = scipy.stats.bartlett(X,Y)\n",
    "if pvaleur > alpha:\n",
    "    print(\"Les variances sont les mêmes, les variables suivent donc la même loi.\")\n",
    "else:\n",
    "    print(\"Les variances ne sont pas les mêmes, les variables ne suivent pas la même loi.\")"
   ]
  },
  {
   "cell_type": "markdown",
   "metadata": {},
   "source": [
    "Les variances sont bien les mêmes sur les deux clusters <br/>\n",
    "Les clusters suivent donc la même loi normale"
   ]
  },
  {
   "cell_type": "markdown",
   "metadata": {},
   "source": [
    "## Egalité de Moyennes : "
   ]
  },
  {
   "cell_type": "code",
   "execution_count": 44,
   "metadata": {},
   "outputs": [
    {
     "name": "stdout",
     "output_type": "stream",
     "text": [
      "Les moyennes ne sont pas les mêmes, les variables diffèrent.\n"
     ]
    }
   ],
   "source": [
    "stats, pvaleur = scipy.stats.ttest_ind(X,Y, equal_var=True)\n",
    "\n",
    "if pvaleur > alpha:\n",
    "    print(\"Les moyennes sont les mêmes, les variables ne diffèrent pas.\")\n",
    "else:\n",
    "    print(\"Les moyennes ne sont pas les mêmes, les variables diffèrent.\")"
   ]
  },
  {
   "cell_type": "markdown",
   "metadata": {},
   "source": [
    "Les moyennes diffèrent <br/>\n",
    "Les clusters suivent la même loi normale mais diffèrent bien entre eux."
   ]
  }
 ],
 "metadata": {
  "kernelspec": {
   "display_name": "Python 3",
   "language": "python",
   "name": "python3"
  },
  "language_info": {
   "codemirror_mode": {
    "name": "ipython",
    "version": 3
   },
   "file_extension": ".py",
   "mimetype": "text/x-python",
   "name": "python",
   "nbconvert_exporter": "python",
   "pygments_lexer": "ipython3",
   "version": "3.7.1"
  },
  "toc": {
   "base_numbering": 1,
   "nav_menu": {},
   "number_sections": true,
   "sideBar": true,
   "skip_h1_title": false,
   "title_cell": "Table of Contents",
   "title_sidebar": "Contents",
   "toc_cell": false,
   "toc_position": {},
   "toc_section_display": true,
   "toc_window_display": true
  }
 },
 "nbformat": 4,
 "nbformat_minor": 2
}
